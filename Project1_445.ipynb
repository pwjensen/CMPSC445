{
  "cells": [
    {
      "cell_type": "markdown",
      "metadata": {
        "id": "VaBsxyBQQbjy"
      },
      "source": [
        "Data: https://www.phila.gov/property/data/\n",
        "\n",
        "Reference: https://medium.com/@GaussEuler/philadelphia-housing-data-part-i-data-analysis-fe45415554a9"
      ]
    },
    {
      "cell_type": "markdown",
      "metadata": {
        "id": "A2D6nlvNgpBh"
      },
      "source": [
        "### Mount Google Drive to access file"
      ]
    },
    {
      "cell_type": "code",
      "execution_count": null,
      "metadata": {
        "colab": {
          "base_uri": "https://localhost:8080/"
        },
        "id": "k4jAEXgwfd2t",
        "outputId": "70ba4344-0834-45a7-de2d-768f92e47cb1"
      },
      "outputs": [],
      "source": [
        "from google.colab import drive\n",
        "drive.mount('/content/drive')"
      ]
    },
    {
      "cell_type": "code",
      "execution_count": null,
      "metadata": {
        "colab": {
          "base_uri": "https://localhost:8080/"
        },
        "id": "eyFKocisgJ6d",
        "outputId": "a3ba284f-89cf-4b31-9e13-09cab53cb5f0"
      },
      "outputs": [],
      "source": [
        "%cd /content/drive/MyDrive/Colab Notebooks/"
      ]
    },
    {
      "cell_type": "code",
      "execution_count": null,
      "metadata": {},
      "outputs": [],
      "source": [
        "!Powershell.exe -Command \"Invoke-WebRequest -Uri 'https://phl.carto.com/api/v2/sql?q=SELECT+*,+ST_Y(the_geom)+AS+lat,+ST_X(the_geom)+AS+lng+FROM+opa_properties_public&filename=opa_properties_public&format=csv&skipfields=cartodb_id' -OutFile 'data.csv'\"\n"
      ]
    },
    {
      "cell_type": "markdown",
      "metadata": {
        "id": "Q6FYs7-Ogzph"
      },
      "source": [
        "### Set up pandas with CSV file"
      ]
    },
    {
      "cell_type": "code",
      "execution_count": null,
      "metadata": {
        "id": "YfT-4r8iQeu8"
      },
      "outputs": [],
      "source": [
        "import pandas as pd\n",
        "import numpy as np\n",
        "import matplotlib.pyplot as plt\n",
        "import seaborn as sns"
      ]
    },
    {
      "cell_type": "code",
      "execution_count": null,
      "metadata": {
        "colab": {
          "base_uri": "https://localhost:8080/"
        },
        "id": "rSGOLKe7Qjtt",
        "outputId": "de76d976-6c37-4821-b035-273da64cd4a9"
      },
      "outputs": [],
      "source": [
        "all_data = pd.read_csv('data.csv')"
      ]
    },
    {
      "cell_type": "code",
      "execution_count": null,
      "metadata": {
        "colab": {
          "base_uri": "https://localhost:8080/"
        },
        "id": "VNeGfK4GQ4LM",
        "outputId": "985cd0b1-259d-4c7d-d8b9-aee9ddb8e25f"
      },
      "outputs": [],
      "source": [
        "all_data.shape"
      ]
    },
    {
      "cell_type": "markdown",
      "metadata": {
        "id": "nXczkSUMbuAW"
      },
      "source": [
        "### See all data columns"
      ]
    },
    {
      "cell_type": "code",
      "execution_count": null,
      "metadata": {
        "colab": {
          "base_uri": "https://localhost:8080/"
        },
        "id": "F8oHwKeeRCod",
        "outputId": "72d1707d-7f0f-42bf-abde-7fd5b6f59579"
      },
      "outputs": [],
      "source": [
        "sorted(all_data.columns)"
      ]
    },
    {
      "cell_type": "markdown",
      "metadata": {
        "id": "-GYEfA74nPxy"
      },
      "source": [
        "### Drop Items Assumed to be useless"
      ]
    },
    {
      "cell_type": "code",
      "execution_count": null,
      "metadata": {
        "id": "g2rBq_hAnPMS"
      },
      "outputs": [],
      "source": [
        "drop_data = ['the_geom', 'the_geom_webmercator','beginning_point', 'book_and_page', 'building_code_description', 'category_code_description', 'cross_reference', 'date_exterior_condition', 'mailing_address_1', 'mailing_address_2', 'mailing_care_of', 'mailing_city_state', 'mailing_street', 'market_value_date', 'owner_1', 'owner_2', 'recording_date', 'registry_number', 'state_code', 'street_code', 'street_name', 'building_code_description_new']\n",
        "data = all_data.drop(drop_data, axis = 1)"
      ]
    },
    {
      "cell_type": "markdown",
      "metadata": {
        "id": "ovrFGExqgR5A"
      },
      "source": [
        "### Drop Non-Residential Data"
      ]
    },
    {
      "cell_type": "code",
      "execution_count": null,
      "metadata": {
        "id": "2lWiWLJnZRp7"
      },
      "outputs": [],
      "source": [
        "# Deleting 'Vacant Land'\n",
        "data = data.loc[all_data['category_code'] < 4]\n",
        "#data=all_data.drop(all_data[all_data.category_code == 6].index)\n",
        "# Deleting 'Commercial'\n",
        "#data=data.drop(data[data.category_code == 4].index)\n",
        "# Deleting 'Industrial'\n",
        "#data=data.drop(data[data.category_code == 5].index)"
      ]
    },
    {
      "cell_type": "code",
      "execution_count": null,
      "metadata": {
        "colab": {
          "base_uri": "https://localhost:8080/"
        },
        "id": "aWVT7nfsglIh",
        "outputId": "40250d5e-2220-4036-c272-40050112a87b"
      },
      "outputs": [],
      "source": [
        "data.category_code.value_counts(dropna=False)\n",
        "#Code value: 1 = Single Family\n",
        "#Code value: 6 = Vacant Land\n",
        "#Code value: 2 = Multi Family\n",
        "#Code value: 3 = Mixed Use\n",
        "#Code value: 4 = Commercial\n",
        "#Code value: 5 = Industrial"
      ]
    },
    {
      "cell_type": "markdown",
      "metadata": {
        "id": "j8SAqO8qrVY2"
      },
      "source": [
        "### YEs"
      ]
    },
    {
      "cell_type": "code",
      "execution_count": null,
      "metadata": {
        "colab": {
          "base_uri": "https://localhost:8080/"
        },
        "id": "iBEoH9V-rY7w",
        "outputId": "4026f18d-2afa-462e-a1e4-094f7c1f614e"
      },
      "outputs": [],
      "source": [
        "data.columns"
      ]
    },
    {
      "cell_type": "code",
      "execution_count": null,
      "metadata": {
        "colab": {
          "base_uri": "https://localhost:8080/"
        },
        "id": "Xzugva9PrvCm",
        "outputId": "5e3700d5-9653-4f3b-fe9e-512be4736225"
      },
      "outputs": [],
      "source": [
        "print(data.value_counts(dropna=False))"
      ]
    },
    {
      "cell_type": "markdown",
      "metadata": {
        "id": "VLlb51dTsVFu"
      },
      "source": [
        "### Check Each Column"
      ]
    },
    {
      "cell_type": "code",
      "execution_count": null,
      "metadata": {
        "colab": {
          "base_uri": "https://localhost:8080/"
        },
        "id": "eImlyIopsLCt",
        "outputId": "30ba0410-582f-4aa8-fced-42099bcb2319"
      },
      "outputs": [],
      "source": [
        "data.the_geom.value_counts(dropna=False)"
      ]
    },
    {
      "cell_type": "markdown",
      "metadata": {
        "id": "MzABMPeDXniE"
      },
      "source": [
        "### Check which values have missing values >25% !!! NEED TO LOOK AT COLUMNS"
      ]
    },
    {
      "cell_type": "code",
      "execution_count": null,
      "metadata": {
        "colab": {
          "base_uri": "https://localhost:8080/"
        },
        "id": "FDLRTT2wXsnY",
        "outputId": "182793db-6d38-4ab3-fbf6-cf271bfdbdfc"
      },
      "outputs": [],
      "source": [
        "missing_percent = data.isnull().mean() * 100\n",
        "columns_missing = missing_percent[missing_percent > 20].index.tolist()\n",
        "print(\"Columns > 25% missing\", columns_missing)"
      ]
    },
    {
      "cell_type": "markdown",
      "metadata": {
        "id": "KEyoTOJ8gxsv"
      },
      "source": [
        "#### Drop all columns that are missing more than 25% of their datapoints"
      ]
    },
    {
      "cell_type": "code",
      "execution_count": null,
      "metadata": {
        "id": "XnZQ6MnrgxgH"
      },
      "outputs": [],
      "source": [
        "data = data.drop(columns_missing, axis = 1)"
      ]
    },
    {
      "cell_type": "markdown",
      "metadata": {
        "id": "0q_VWZz9hND5"
      },
      "source": [
        "### Check columns again"
      ]
    },
    {
      "cell_type": "code",
      "execution_count": null,
      "metadata": {
        "colab": {
          "base_uri": "https://localhost:8080/"
        },
        "id": "zQgdb88QhO5A",
        "outputId": "c1726848-6cb4-4e97-8301-3ab18a542340"
      },
      "outputs": [],
      "source": [
        "sorted(data.columns)"
      ]
    },
    {
      "cell_type": "code",
      "execution_count": null,
      "metadata": {
        "colab": {
          "base_uri": "https://localhost:8080/"
        },
        "id": "zcR9KgGkhYG3",
        "outputId": "70f75cd6-373a-458e-ce30-15108f2a6324"
      },
      "outputs": [],
      "source": [
        "drop_column_list = sorted(['the_geom', 'assessment_date','beginning_point', 'book_and_page', 'category_code_description',\n",
        "                    'cross_reference', 'house_number','location', 'mailing_address_1', 'mailing_address_2',\n",
        "                    'mailing_care_of', 'mailing_city_state', 'mailing_street', 'market_value_date','the_geom_webmercator',\n",
        "                    'other_building','owner_1', 'owner_2', 'parcel_number', 'recording_date', 'sale_date',\n",
        "                    'registry_number', 'unit', 'objectid','building_code', 'census_tract', 'date_exterior_condition',\n",
        "                    'year_built_estimate', 'house_extension', 'mailing_zip', 'sewer', 'site_type','state_code', 'street_designation',\n",
        "                    'street_name', 'street_direction', 'geographic_ward', 'depth']) #'sale_price'\n",
        "\n",
        "# gets all attributes in drop columnlist that are not in data\n",
        "diffs = [attr for attr in drop_column_list if attr not in data]\n",
        "\n",
        "# removes these attributes from data since we dont have them\n",
        "for attr in diffs:\n",
        "  drop_column_list.remove(attr)\n",
        "\n",
        "print(f\"Columns to Drop: {drop_column_list}\")\n",
        "\n",
        "#list(zip(sorted(data), sorted(drop_column_list)))\n",
        "data = data.drop(drop_column_list, axis = 1)\n",
        "\n"
      ]
    },
    {
      "cell_type": "code",
      "execution_count": null,
      "metadata": {
        "colab": {
          "base_uri": "https://localhost:8080/"
        },
        "id": "k6lXT6eJlzqk",
        "outputId": "38a2d4fc-cadc-4bb9-f3c4-5729bb919613"
      },
      "outputs": [],
      "source": [
        "print(data.value_counts(dropna=False))"
      ]
    },
    {
      "cell_type": "code",
      "execution_count": null,
      "metadata": {
        "colab": {
          "base_uri": "https://localhost:8080/",
          "height": 489
        },
        "id": "I-CgdN5rnZ5j",
        "outputId": "f8a23d77-906f-4ac1-db34-5ba069b5bc85"
      },
      "outputs": [],
      "source": [
        "missing = data.isnull().sum()\n",
        "missing = missing[missing >= 1000]\n",
        "missing.sort_values(inplace=True)\n",
        "missing.plot.barh()\n",
        "plt.title(\"Features with missing values (nan's) > 1000\")\n",
        "plt.ylabel(\"Features\")\n",
        "plt.xlabel(\"Number of Missing values\")"
      ]
    },
    {
      "cell_type": "code",
      "execution_count": null,
      "metadata": {
        "colab": {
          "base_uri": "https://localhost:8080/"
        },
        "id": "299ngB3Db_1N",
        "outputId": "e09ee2ac-fd00-40fb-bef9-0e8bfd9539fa"
      },
      "outputs": [],
      "source": [
        "print(\"\\nThe most important features relative to the target - 'market_value':\")\n",
        "corr = data.corr()\n",
        "corr.sort_values([\"market_value\"],ascending = False, inplace = True)\n",
        "print(corr.market_value)"
      ]
    },
    {
      "cell_type": "code",
      "execution_count": null,
      "metadata": {
        "id": "hD4u-d0Gbmps"
      },
      "outputs": [],
      "source": [
        "#data.number_of_rooms.value_counts(dropna=False).head(5)"
      ]
    },
    {
      "cell_type": "markdown",
      "metadata": {
        "id": "4igaOewfbyfm"
      },
      "source": [
        "Check Missing Data"
      ]
    },
    {
      "cell_type": "code",
      "execution_count": null,
      "metadata": {
        "colab": {
          "base_uri": "https://localhost:8080/",
          "height": 489
        },
        "id": "NDXO4elWb04Z",
        "outputId": "6bc4a24a-4902-4a42-e63b-18fd13dfdf78"
      },
      "outputs": [],
      "source": [
        "missing = all_data.isnull().sum()\n",
        "missing = missing[missing >= 1000]\n",
        "missing.sort_values(inplace=True)\n",
        "missing.plot.barh()\n",
        "plt.title(\"Features with missing values (nan's) > 1000\")\n",
        "plt.ylabel(\"Features\")\n",
        "plt.xlabel(\"Number of Missing values\")"
      ]
    },
    {
      "cell_type": "markdown",
      "metadata": {
        "id": "A-YavIzGcs8g"
      },
      "source": [
        "Drop Columns with large amounts of null values or irrelevant"
      ]
    },
    {
      "cell_type": "code",
      "execution_count": null,
      "metadata": {
        "id": "2dr1tP1NRHW3"
      },
      "outputs": [],
      "source": [
        "drop_column_list = ['the_geom', 'assessment_date','beginning_point', 'book_and_page', 'category_code_description',\n",
        "                    'cross_reference', 'house_number','location', 'mailing_address_1', 'mailing_address_2',\n",
        "                    'mailing_care_of', 'mailing_city_state', 'mailing_street', 'market_value_date','the_geom_webmercator',\n",
        "                    'other_building','owner_1', 'owner_2', 'parcel_number', 'recording_date', 'sale_date',\n",
        "                    'registry_number', 'unit', 'objectid','building_code', 'census_tract', 'date_exterior_condition',\n",
        "                    'year_built_estimate', 'house_extension', 'mailing_zip', 'sewer', 'site_type','state_code', 'street_designation',\n",
        "                    'street_name', 'street_direction', 'geographic_ward', 'depth'] #'sale_price'\n",
        "data = all_data.drop(drop_column_list, axis = 1)"
      ]
    },
    {
      "cell_type": "markdown",
      "metadata": {
        "id": "OhttgTxNcx45"
      },
      "source": [
        "Check Data Again"
      ]
    },
    {
      "cell_type": "code",
      "execution_count": null,
      "metadata": {
        "colab": {
          "base_uri": "https://localhost:8080/",
          "height": 489
        },
        "id": "rtGU2j0McxBY",
        "outputId": "493b2c46-5bf7-42ba-98b3-a3d9829b14a1"
      },
      "outputs": [],
      "source": [
        "missing = data.isnull().sum()\n",
        "missing = missing[missing >= 1000]\n",
        "missing.sort_values(inplace=True)\n",
        "missing.plot.barh()\n",
        "plt.title(\"Features with missing values (nan's) > 1000\")\n",
        "plt.ylabel(\"Features\")\n",
        "plt.xlabel(\"Number of Missing values\")"
      ]
    },
    {
      "cell_type": "markdown",
      "metadata": {
        "id": "9anfAk4ietpi"
      },
      "source": [
        "Removing all Values in market value and sale price that are Missing"
      ]
    },
    {
      "cell_type": "code",
      "execution_count": null,
      "metadata": {
        "id": "N1jnMvnCR802"
      },
      "outputs": [],
      "source": [
        "data = data.dropna(subset=['market_value'])\n",
        "data = data.dropna(subset=['sale_price'])"
      ]
    },
    {
      "cell_type": "markdown",
      "metadata": {
        "id": "0nEVQNWFe8j5"
      },
      "source": [
        "Check to see if there are still any null values"
      ]
    },
    {
      "cell_type": "code",
      "execution_count": null,
      "metadata": {
        "colab": {
          "base_uri": "https://localhost:8080/"
        },
        "id": "v9Q9xFOwSGWC",
        "outputId": "3ce1ac48-0502-407e-dcef-163220c2fae8"
      },
      "outputs": [],
      "source": [
        "data.market_value.isnull().any()\n"
      ]
    },
    {
      "cell_type": "code",
      "execution_count": null,
      "metadata": {
        "colab": {
          "base_uri": "https://localhost:8080/"
        },
        "id": "yNSRujf-fAF7",
        "outputId": "ce31f9d6-91cd-4f88-c566-1c882ce09a50"
      },
      "outputs": [],
      "source": [
        "data.sale_price.isnull().any()"
      ]
    },
    {
      "cell_type": "markdown",
      "metadata": {
        "id": "Nyag7VJVfFAF"
      },
      "source": [
        "Deleting values that are 0 for market value and sale price, since they don't make sense to have"
      ]
    },
    {
      "cell_type": "code",
      "execution_count": null,
      "metadata": {
        "id": "mqyDeF4TSKEn"
      },
      "outputs": [],
      "source": [
        "data = data.drop(data[data.market_value == 0].index)"
      ]
    },
    {
      "cell_type": "code",
      "execution_count": null,
      "metadata": {
        "id": "UtHmQpSbfMbW"
      },
      "outputs": [],
      "source": [
        "data = data.drop(data[data.sale_price == 0].index)"
      ]
    },
    {
      "cell_type": "markdown",
      "metadata": {
        "id": "0DoczgzCfXDl"
      },
      "source": [
        "Isolating the Residential homes from commercial and industrial properties"
      ]
    },
    {
      "cell_type": "code",
      "execution_count": null,
      "metadata": {
        "id": "n7nPBjk1SjhF"
      },
      "outputs": [],
      "source": [
        "\n"
      ]
    },
    {
      "cell_type": "code",
      "execution_count": null,
      "metadata": {
        "id": "iv7iNQ9tSuAs"
      },
      "outputs": [],
      "source": [
        "# Deleting 'Vacant Land'\n",
        "data=data.drop(data[data.category_code == 6].index)\n",
        "# Deleting 'Commercial'\n",
        "data=data.drop(data[data.category_code == 4].index)\n",
        "# Deleting 'Industrial'\n",
        "data=data.drop(data[data.category_code == 5].index)"
      ]
    },
    {
      "cell_type": "markdown",
      "metadata": {
        "id": "AQujswdpnLMd"
      },
      "source": [
        "Fixing Longitude and Latitude"
      ]
    },
    {
      "cell_type": "code",
      "execution_count": null,
      "metadata": {
        "id": "Nu4-gvGWnNkQ"
      },
      "outputs": [],
      "source": [
        "data[\"lng\"] = data.lng.fillna(data.lng.mean())"
      ]
    },
    {
      "cell_type": "code",
      "execution_count": null,
      "metadata": {
        "colab": {
          "base_uri": "https://localhost:8080/"
        },
        "id": "EQvoTy01nSYL",
        "outputId": "3acd9932-3f1e-44dd-8348-d9f1ff2e8f06"
      },
      "outputs": [],
      "source": [
        "data.lng.value_counts(dropna=False).head(5)"
      ]
    },
    {
      "cell_type": "markdown",
      "metadata": {
        "id": "XKF8tSVAnfko"
      },
      "source": [
        "Longitude values are negative, so getting absolute value so they are positive"
      ]
    },
    {
      "cell_type": "code",
      "execution_count": null,
      "metadata": {
        "id": "O5sJXI2ppJ-W"
      },
      "outputs": [],
      "source": [
        "data.loc[:, \"lng\"] = data['lng'].abs()"
      ]
    },
    {
      "cell_type": "code",
      "execution_count": null,
      "metadata": {
        "colab": {
          "base_uri": "https://localhost:8080/"
        },
        "id": "ZKJ1QrG0no2O",
        "outputId": "f41ad833-cf82-4fec-b09a-c201e050c441"
      },
      "outputs": [],
      "source": [
        "data.lat.value_counts(dropna=False).head()"
      ]
    },
    {
      "cell_type": "markdown",
      "metadata": {
        "id": "YQrs6fc_nrtL"
      },
      "source": [
        "Latitude is fine so no need to fix"
      ]
    },
    {
      "cell_type": "markdown",
      "metadata": {
        "id": "KQYwJaykgXvi"
      },
      "source": [
        "Check Zip Codes"
      ]
    },
    {
      "cell_type": "code",
      "execution_count": null,
      "metadata": {
        "colab": {
          "base_uri": "https://localhost:8080/"
        },
        "id": "BQW2Bp_gf811",
        "outputId": "ba60dfcc-9c19-4944-bbc6-46a13d0075b7"
      },
      "outputs": [],
      "source": [
        "data.zip_code.value_counts(dropna=False).head()"
      ]
    },
    {
      "cell_type": "markdown",
      "metadata": {
        "id": "iPk3SOU8gZSP"
      },
      "source": [
        "Check Basements"
      ]
    },
    {
      "cell_type": "code",
      "execution_count": null,
      "metadata": {
        "colab": {
          "base_uri": "https://localhost:8080/"
        },
        "id": "KivUv1hUgaeD",
        "outputId": "4daaed27-6746-45ae-9cac-27560eaa7391"
      },
      "outputs": [],
      "source": [
        "data.basements.value_counts(dropna=False)\n",
        "# [NOTE: REPLACING 'NaN' WITH 'L' (my definition)]\n",
        "# D = Full – Unknown Finish\n",
        "# F = Partial - Semi-Finished\n",
        "# H = Partial - Unknown Finish\n",
        "# C = Full - Unfinished\n",
        "# A = Full - Finished\n",
        "# J = Unknown Size - Unfinished\n",
        "# 0 = No Basement [NOTE: REPLACING '0' WITH 'K']\n",
        "# E = Partial - Finished\n",
        "# I = Unknown Size - Finished\n",
        "# G = Partial - Unfinished\n",
        "# B = Full - Semi-Finished"
      ]
    },
    {
      "cell_type": "markdown",
      "metadata": {
        "id": "AayVNX8bg8-u"
      },
      "source": [
        "Replacing Codes"
      ]
    },
    {
      "cell_type": "code",
      "execution_count": null,
      "metadata": {
        "id": "tAsiYJDhg48R"
      },
      "outputs": [],
      "source": [
        "data.loc[:, \"basements\"] = data.loc[:, \"basements\"].fillna('L')\n",
        "data.loc[:, \"basements\"] = data['basements'].replace('0', 'K')"
      ]
    },
    {
      "cell_type": "markdown",
      "metadata": {
        "id": "dQsIn1yBhHJ2"
      },
      "source": [
        "Checking Central Air"
      ]
    },
    {
      "cell_type": "code",
      "execution_count": null,
      "metadata": {
        "colab": {
          "base_uri": "https://localhost:8080/"
        },
        "id": "iFfarJydhGnC",
        "outputId": "b3e601e7-b56d-4311-86d0-ee1b15b7fbad"
      },
      "outputs": [],
      "source": [
        "data.central_air.value_counts(dropna=False)"
      ]
    },
    {
      "cell_type": "code",
      "execution_count": null,
      "metadata": {
        "id": "m52xR1xBhX0d"
      },
      "outputs": [],
      "source": [
        "# Replacing '0' with 'N' (i.e. NO central_air)\n",
        "data.loc[:, \"central_air\"] = data['central_air'].replace('0', 'N')\n",
        "# Replacing the \"NaNs\" with 'N'\n",
        "data.loc[:, \"central_air\"] = data['central_air'].fillna('N')\n",
        "# Replacing '1' with 'Y' (i.e. YES central_air)\n",
        "data.loc[:, \"central_air\"] = data['central_air'].replace('1', 'Y')"
      ]
    },
    {
      "cell_type": "markdown",
      "metadata": {
        "id": "7rmq_qohjCgv"
      },
      "source": [
        "Checking Exterior Condition"
      ]
    },
    {
      "cell_type": "code",
      "execution_count": null,
      "metadata": {
        "colab": {
          "base_uri": "https://localhost:8080/"
        },
        "id": "tjx3CS6koNOJ",
        "outputId": "7eba0650-9e21-434d-d2f1-c3ffabc312cc"
      },
      "outputs": [],
      "source": [
        "data.exterior_condition.value_counts(dropna=False)\n",
        "# Lower values are better quality\n",
        "# 0 is Missing/NA"
      ]
    },
    {
      "cell_type": "code",
      "execution_count": null,
      "metadata": {
        "id": "LWSMd6_aoXBi"
      },
      "outputs": [],
      "source": [
        "data.loc[:, \"exterior_condition\"] = data['exterior_condition'].fillna(0.0)"
      ]
    },
    {
      "cell_type": "code",
      "execution_count": null,
      "metadata": {
        "colab": {
          "base_uri": "https://localhost:8080/"
        },
        "id": "MYjrfZylokkm",
        "outputId": "98ba49d8-691c-4274-8d0c-4a2ee9f35eb8"
      },
      "outputs": [],
      "source": [
        "data.exterior_condition.value_counts(dropna=False)"
      ]
    },
    {
      "cell_type": "markdown",
      "metadata": {
        "id": "GrH4esDdqdr4"
      },
      "source": [
        "Checking Garage Type - Removing because unclear how to organize"
      ]
    },
    {
      "cell_type": "code",
      "execution_count": null,
      "metadata": {
        "colab": {
          "base_uri": "https://localhost:8080/"
        },
        "id": "30eZLce3jEH7",
        "outputId": "0d388a80-f4ed-43bf-9f3f-c566f908ea6c"
      },
      "outputs": [],
      "source": [
        "data.garage_type.value_counts(dropna=False)"
      ]
    },
    {
      "cell_type": "code",
      "execution_count": null,
      "metadata": {
        "id": "HNa1ROZqqYi0"
      },
      "outputs": [],
      "source": [
        "data = data.drop('garage_type', axis = 1)"
      ]
    },
    {
      "cell_type": "markdown",
      "metadata": {
        "id": "qrJ6jzJcqpIL"
      },
      "source": [
        "Checking Correlation of Features to the target"
      ]
    },
    {
      "cell_type": "code",
      "execution_count": null,
      "metadata": {
        "colab": {
          "base_uri": "https://localhost:8080/"
        },
        "id": "DV1C_wU8lDkK",
        "outputId": "fb96e2e2-0e83-4b5f-90f1-897bcc0abc14"
      },
      "outputs": [],
      "source": [
        "print(\"\\nThe most important features relative to the target - 'market_value':\")\n",
        "corr = data.corr()\n",
        "corr.sort_values([\"market_value\"],ascending = False, inplace = True)\n",
        "print(corr.market_value)"
      ]
    }
  ],
  "metadata": {
    "colab": {
      "provenance": []
    },
    "kernelspec": {
      "display_name": "Python 3",
      "name": "python3"
    },
    "language_info": {
      "codemirror_mode": {
        "name": "ipython",
        "version": 3
      },
      "file_extension": ".py",
      "mimetype": "text/x-python",
      "name": "python",
      "nbconvert_exporter": "python",
      "pygments_lexer": "ipython3",
      "version": "3.11.8"
    }
  },
  "nbformat": 4,
  "nbformat_minor": 0
}
