{
  "cells": [
    {
      "cell_type": "markdown",
      "metadata": {
        "id": "VaBsxyBQQbjy"
      },
      "source": [
        "Data: https://www.phila.gov/property/data/\n",
        "\n",
        "Reference: https://medium.com/@GaussEuler/philadelphia-housing-data-part-i-data-analysis-fe45415554a9"
      ]
    },
    {
      "cell_type": "code",
      "execution_count": null,
      "metadata": {},
      "outputs": [],
      "source": [
        "!Powershell.exe -Command \"Invoke-WebRequest -Uri 'https://phl.carto.com/api/v2/sql?q=SELECT+*,+ST_Y(the_geom)+AS+lat,+ST_X(the_geom)+AS+lng+FROM+opa_properties_public&filename=opa_properties_public&format=csv&skipfields=cartodb_id' -OutFile 'data.csv'\"\n"
      ]
    },
    {
      "cell_type": "markdown",
      "metadata": {
        "id": "Q6FYs7-Ogzph"
      },
      "source": [
        "Set up pandas with CSV file"
      ]
    },
    {
      "cell_type": "code",
      "execution_count": 1,
      "metadata": {
        "id": "YfT-4r8iQeu8"
      },
      "outputs": [],
      "source": [
        "import pandas as pd\n",
        "import numpy as np\n",
        "import matplotlib.pyplot as plt\n",
        "import seaborn as sns"
      ]
    },
    {
      "cell_type": "code",
      "execution_count": 2,
      "metadata": {
        "colab": {
          "base_uri": "https://localhost:8080/"
        },
        "id": "rSGOLKe7Qjtt",
        "outputId": "de76d976-6c37-4821-b035-273da64cd4a9"
      },
      "outputs": [
        {
          "name": "stderr",
          "output_type": "stream",
          "text": [
            "C:\\Users\\Paul\\AppData\\Local\\Temp\\ipykernel_20124\\1507164070.py:1: DtypeWarning: Columns (5,26,54,77) have mixed types. Specify dtype option on import or set low_memory=False.\n",
            "  df = pd.read_csv('data.csv')\n"
          ]
        }
      ],
      "source": [
        "df = pd.read_csv('data.csv')"
      ]
    },
    {
      "cell_type": "markdown",
      "metadata": {},
      "source": [
        "# Preprocessing"
      ]
    },
    {
      "cell_type": "code",
      "execution_count": 13,
      "metadata": {
        "colab": {
          "base_uri": "https://localhost:8080/"
        },
        "id": "F8oHwKeeRCod",
        "outputId": "72d1707d-7f0f-42bf-abde-7fd5b6f59579"
      },
      "outputs": [
        {
          "data": {
            "text/html": [
              "<div>\n",
              "<style scoped>\n",
              "    .dataframe tbody tr th:only-of-type {\n",
              "        vertical-align: middle;\n",
              "    }\n",
              "\n",
              "    .dataframe tbody tr th {\n",
              "        vertical-align: top;\n",
              "    }\n",
              "\n",
              "    .dataframe thead th {\n",
              "        text-align: right;\n",
              "    }\n",
              "</style>\n",
              "<table border=\"1\" class=\"dataframe\">\n",
              "  <thead>\n",
              "    <tr style=\"text-align: right;\">\n",
              "      <th></th>\n",
              "      <th>the_geom</th>\n",
              "      <th>the_geom_webmercator</th>\n",
              "      <th>assessment_date</th>\n",
              "      <th>basements</th>\n",
              "      <th>beginning_point</th>\n",
              "      <th>book_and_page</th>\n",
              "      <th>building_code</th>\n",
              "      <th>building_code_description</th>\n",
              "      <th>category_code</th>\n",
              "      <th>category_code_description</th>\n",
              "      <th>...</th>\n",
              "      <th>year_built</th>\n",
              "      <th>year_built_estimate</th>\n",
              "      <th>zip_code</th>\n",
              "      <th>zoning</th>\n",
              "      <th>pin</th>\n",
              "      <th>building_code_new</th>\n",
              "      <th>building_code_description_new</th>\n",
              "      <th>objectid</th>\n",
              "      <th>lat</th>\n",
              "      <th>lng</th>\n",
              "    </tr>\n",
              "  </thead>\n",
              "  <tbody>\n",
              "    <tr>\n",
              "      <th>0</th>\n",
              "      <td>0101000020E6100000B31249F865C952C0BA78F58354FF...</td>\n",
              "      <td>0101000020110F0000D102FB3B3FE95FC10F1F8874278F...</td>\n",
              "      <td>2022-05-24</td>\n",
              "      <td>NaN</td>\n",
              "      <td>124'9 1/2\" E GERMANTN</td>\n",
              "      <td>NaN</td>\n",
              "      <td>SC</td>\n",
              "      <td>VACANT LAND COMMER &lt; ACRE</td>\n",
              "      <td>6</td>\n",
              "      <td>VACANT LAND</td>\n",
              "      <td>...</td>\n",
              "      <td>NaN</td>\n",
              "      <td>NaN</td>\n",
              "      <td>19133.0</td>\n",
              "      <td>CMX2</td>\n",
              "      <td>1001489682</td>\n",
              "      <td>NaN</td>\n",
              "      <td>NaN</td>\n",
              "      <td>435475263</td>\n",
              "      <td>39.994767</td>\n",
              "      <td>-75.146849</td>\n",
              "    </tr>\n",
              "    <tr>\n",
              "      <th>1</th>\n",
              "      <td>0101000020E61000001E9A8C57D0CB52C0FE38F5B4E2FD...</td>\n",
              "      <td>0101000020110F000049FE009A59ED5FC1F6EC21858D8D...</td>\n",
              "      <td>2022-05-24</td>\n",
              "      <td>NaN</td>\n",
              "      <td>175' N CLIFFORD ST</td>\n",
              "      <td>NaN</td>\n",
              "      <td>SR</td>\n",
              "      <td>VACANT LAND RESIDE &lt; ACRE</td>\n",
              "      <td>6</td>\n",
              "      <td>VACANT LAND</td>\n",
              "      <td>...</td>\n",
              "      <td>NaN</td>\n",
              "      <td>NaN</td>\n",
              "      <td>19121.0</td>\n",
              "      <td>RSA5</td>\n",
              "      <td>1001648434</td>\n",
              "      <td>NaN</td>\n",
              "      <td>NaN</td>\n",
              "      <td>435475264</td>\n",
              "      <td>39.983481</td>\n",
              "      <td>-75.184591</td>\n",
              "    </tr>\n",
              "    <tr>\n",
              "      <th>2</th>\n",
              "      <td>0101000020E6100000A4470EB29FCB52C079D38815B0FD...</td>\n",
              "      <td>0101000020110F000047F97DF806ED5FC1C816E168558D...</td>\n",
              "      <td>2022-05-24</td>\n",
              "      <td>NaN</td>\n",
              "      <td>30'8\" N COLUMBIA AVE</td>\n",
              "      <td>NaN</td>\n",
              "      <td>SR</td>\n",
              "      <td>VACANT LAND RESIDE &lt; ACRE</td>\n",
              "      <td>6</td>\n",
              "      <td>VACANT LAND</td>\n",
              "      <td>...</td>\n",
              "      <td>NaN</td>\n",
              "      <td>NaN</td>\n",
              "      <td>19121.0</td>\n",
              "      <td>RSA5</td>\n",
              "      <td>1001646785</td>\n",
              "      <td>NaN</td>\n",
              "      <td>NaN</td>\n",
              "      <td>435475265</td>\n",
              "      <td>39.981936</td>\n",
              "      <td>-75.181622</td>\n",
              "    </tr>\n",
              "    <tr>\n",
              "      <th>3</th>\n",
              "      <td>0101000020E61000003AF1090FA2CA52C0BD6C89C90BFE...</td>\n",
              "      <td>0101000020110F00006E3AA02458EB5FC16067F80DBB8D...</td>\n",
              "      <td>2022-05-24</td>\n",
              "      <td>NaN</td>\n",
              "      <td>88' N NORRIS ST</td>\n",
              "      <td>NaN</td>\n",
              "      <td>SR</td>\n",
              "      <td>VACANT LAND RESIDE &lt; ACRE</td>\n",
              "      <td>6</td>\n",
              "      <td>VACANT LAND</td>\n",
              "      <td>...</td>\n",
              "      <td>NaN</td>\n",
              "      <td>NaN</td>\n",
              "      <td>19121.0</td>\n",
              "      <td>RSA5</td>\n",
              "      <td>1001633410</td>\n",
              "      <td>NaN</td>\n",
              "      <td>NaN</td>\n",
              "      <td>435475266</td>\n",
              "      <td>39.984735</td>\n",
              "      <td>-75.166141</td>\n",
              "    </tr>\n",
              "    <tr>\n",
              "      <th>4</th>\n",
              "      <td>0101000020E61000000D307E44B1CA52C04EFF883A21FE...</td>\n",
              "      <td>0101000020110F000072A80CFA71EB5FC1DD9832D2D28D...</td>\n",
              "      <td>2022-05-24</td>\n",
              "      <td>NaN</td>\n",
              "      <td>280' N OF NORRIS ST</td>\n",
              "      <td>NaN</td>\n",
              "      <td>SR</td>\n",
              "      <td>VACANT LAND RESIDE &lt; ACRE</td>\n",
              "      <td>6</td>\n",
              "      <td>VACANT LAND</td>\n",
              "      <td>...</td>\n",
              "      <td>NaN</td>\n",
              "      <td>NaN</td>\n",
              "      <td>19121.0</td>\n",
              "      <td>RSA5</td>\n",
              "      <td>1001578463</td>\n",
              "      <td>NaN</td>\n",
              "      <td>NaN</td>\n",
              "      <td>435475267</td>\n",
              "      <td>39.985389</td>\n",
              "      <td>-75.167070</td>\n",
              "    </tr>\n",
              "  </tbody>\n",
              "</table>\n",
              "<p>5 rows × 82 columns</p>\n",
              "</div>"
            ],
            "text/plain": [
              "                                            the_geom  \\\n",
              "0  0101000020E6100000B31249F865C952C0BA78F58354FF...   \n",
              "1  0101000020E61000001E9A8C57D0CB52C0FE38F5B4E2FD...   \n",
              "2  0101000020E6100000A4470EB29FCB52C079D38815B0FD...   \n",
              "3  0101000020E61000003AF1090FA2CA52C0BD6C89C90BFE...   \n",
              "4  0101000020E61000000D307E44B1CA52C04EFF883A21FE...   \n",
              "\n",
              "                                the_geom_webmercator assessment_date  \\\n",
              "0  0101000020110F0000D102FB3B3FE95FC10F1F8874278F...      2022-05-24   \n",
              "1  0101000020110F000049FE009A59ED5FC1F6EC21858D8D...      2022-05-24   \n",
              "2  0101000020110F000047F97DF806ED5FC1C816E168558D...      2022-05-24   \n",
              "3  0101000020110F00006E3AA02458EB5FC16067F80DBB8D...      2022-05-24   \n",
              "4  0101000020110F000072A80CFA71EB5FC1DD9832D2D28D...      2022-05-24   \n",
              "\n",
              "  basements        beginning_point book_and_page building_code  \\\n",
              "0       NaN  124'9 1/2\" E GERMANTN           NaN         SC      \n",
              "1       NaN     175' N CLIFFORD ST           NaN         SR      \n",
              "2       NaN   30'8\" N COLUMBIA AVE           NaN         SR      \n",
              "3       NaN        88' N NORRIS ST           NaN         SR      \n",
              "4       NaN    280' N OF NORRIS ST           NaN         SR      \n",
              "\n",
              "   building_code_description  category_code category_code_description  ...  \\\n",
              "0  VACANT LAND COMMER < ACRE              6               VACANT LAND  ...   \n",
              "1  VACANT LAND RESIDE < ACRE              6               VACANT LAND  ...   \n",
              "2  VACANT LAND RESIDE < ACRE              6               VACANT LAND  ...   \n",
              "3  VACANT LAND RESIDE < ACRE              6               VACANT LAND  ...   \n",
              "4  VACANT LAND RESIDE < ACRE              6               VACANT LAND  ...   \n",
              "\n",
              "   year_built year_built_estimate  zip_code  zoning         pin  \\\n",
              "0         NaN                 NaN   19133.0    CMX2  1001489682   \n",
              "1         NaN                 NaN   19121.0    RSA5  1001648434   \n",
              "2         NaN                 NaN   19121.0    RSA5  1001646785   \n",
              "3         NaN                 NaN   19121.0    RSA5  1001633410   \n",
              "4         NaN                 NaN   19121.0    RSA5  1001578463   \n",
              "\n",
              "   building_code_new  building_code_description_new   objectid        lat  \\\n",
              "0                NaN                            NaN  435475263  39.994767   \n",
              "1                NaN                            NaN  435475264  39.983481   \n",
              "2                NaN                            NaN  435475265  39.981936   \n",
              "3                NaN                            NaN  435475266  39.984735   \n",
              "4                NaN                            NaN  435475267  39.985389   \n",
              "\n",
              "         lng  \n",
              "0 -75.146849  \n",
              "1 -75.184591  \n",
              "2 -75.181622  \n",
              "3 -75.166141  \n",
              "4 -75.167070  \n",
              "\n",
              "[5 rows x 82 columns]"
            ]
          },
          "execution_count": 13,
          "metadata": {},
          "output_type": "execute_result"
        }
      ],
      "source": [
        "df.head()"
      ]
    },
    {
      "cell_type": "markdown",
      "metadata": {},
      "source": [
        "Initial Drops after combing through the data."
      ]
    },
    {
      "cell_type": "markdown",
      "metadata": {},
      "source": [
        "Getting all columns with missing values > 20%.\n",
        "Checking each in CSV file to decide what can be dropped."
      ]
    },
    {
      "cell_type": "code",
      "execution_count": 3,
      "metadata": {},
      "outputs": [
        {
          "data": {
            "text/plain": [
              "['basements',\n",
              " 'central_air',\n",
              " 'cross_reference',\n",
              " 'date_exterior_condition',\n",
              " 'fuel',\n",
              " 'garage_type',\n",
              " 'house_extension',\n",
              " 'mailing_address_1',\n",
              " 'mailing_address_2',\n",
              " 'mailing_care_of',\n",
              " 'market_value_date',\n",
              " 'number_of_rooms',\n",
              " 'other_building',\n",
              " 'owner_2',\n",
              " 'separate_utilities',\n",
              " 'sewer',\n",
              " 'site_type',\n",
              " 'street_direction',\n",
              " 'suffix',\n",
              " 'type_heater',\n",
              " 'unfinished',\n",
              " 'unit',\n",
              " 'utility',\n",
              " 'year_built_estimate']"
            ]
          },
          "execution_count": 3,
          "metadata": {},
          "output_type": "execute_result"
        }
      ],
      "source": [
        "missing_percent = df.isnull().mean() * 100\n",
        "columns_missing = missing_percent[missing_percent > 20].index.tolist()\n",
        "columns_missing"
      ]
    },
    {
      "cell_type": "code",
      "execution_count": 3,
      "metadata": {},
      "outputs": [
        {
          "data": {
            "text/html": [
              "<div>\n",
              "<style scoped>\n",
              "    .dataframe tbody tr th:only-of-type {\n",
              "        vertical-align: middle;\n",
              "    }\n",
              "\n",
              "    .dataframe tbody tr th {\n",
              "        vertical-align: top;\n",
              "    }\n",
              "\n",
              "    .dataframe thead th {\n",
              "        text-align: right;\n",
              "    }\n",
              "</style>\n",
              "<table border=\"1\" class=\"dataframe\">\n",
              "  <thead>\n",
              "    <tr style=\"text-align: right;\">\n",
              "      <th></th>\n",
              "      <th>category_code</th>\n",
              "      <th>census_tract</th>\n",
              "      <th>depth</th>\n",
              "      <th>exempt_building</th>\n",
              "      <th>exempt_land</th>\n",
              "      <th>exterior_condition</th>\n",
              "      <th>fireplaces</th>\n",
              "      <th>frontage</th>\n",
              "      <th>garage_spaces</th>\n",
              "      <th>garage_type</th>\n",
              "      <th>...</th>\n",
              "      <th>topography</th>\n",
              "      <th>total_area</th>\n",
              "      <th>total_livable_area</th>\n",
              "      <th>view_type</th>\n",
              "      <th>year_built</th>\n",
              "      <th>zip_code</th>\n",
              "      <th>zoning</th>\n",
              "      <th>pin</th>\n",
              "      <th>lat</th>\n",
              "      <th>lng</th>\n",
              "    </tr>\n",
              "  </thead>\n",
              "  <tbody>\n",
              "    <tr>\n",
              "      <th>26</th>\n",
              "      <td>3</td>\n",
              "      <td>24.0</td>\n",
              "      <td>51.0</td>\n",
              "      <td>0.0</td>\n",
              "      <td>0.0</td>\n",
              "      <td>NaN</td>\n",
              "      <td>NaN</td>\n",
              "      <td>32.0</td>\n",
              "      <td>NaN</td>\n",
              "      <td>NaN</td>\n",
              "      <td>...</td>\n",
              "      <td>F</td>\n",
              "      <td>1840.0</td>\n",
              "      <td>1840.0</td>\n",
              "      <td>I</td>\n",
              "      <td>1900.0</td>\n",
              "      <td>19147.0</td>\n",
              "      <td>CMX2</td>\n",
              "      <td>1001608624</td>\n",
              "      <td>39.937917</td>\n",
              "      <td>-75.158254</td>\n",
              "    </tr>\n",
              "    <tr>\n",
              "      <th>27</th>\n",
              "      <td>1</td>\n",
              "      <td>160.0</td>\n",
              "      <td>64.0</td>\n",
              "      <td>0.0</td>\n",
              "      <td>0.0</td>\n",
              "      <td>4.0</td>\n",
              "      <td>0.0</td>\n",
              "      <td>14.0</td>\n",
              "      <td>0.0</td>\n",
              "      <td>NaN</td>\n",
              "      <td>...</td>\n",
              "      <td>F</td>\n",
              "      <td>776.0</td>\n",
              "      <td>258.0</td>\n",
              "      <td>I</td>\n",
              "      <td>1899.0</td>\n",
              "      <td>19125.0</td>\n",
              "      <td>RSA5</td>\n",
              "      <td>1001129558</td>\n",
              "      <td>39.977132</td>\n",
              "      <td>-75.127125</td>\n",
              "    </tr>\n",
              "    <tr>\n",
              "      <th>34</th>\n",
              "      <td>3</td>\n",
              "      <td>373.0</td>\n",
              "      <td>79.0</td>\n",
              "      <td>80000.0</td>\n",
              "      <td>0.0</td>\n",
              "      <td>NaN</td>\n",
              "      <td>NaN</td>\n",
              "      <td>20.0</td>\n",
              "      <td>NaN</td>\n",
              "      <td>NaN</td>\n",
              "      <td>...</td>\n",
              "      <td>F</td>\n",
              "      <td>1829.0</td>\n",
              "      <td>2247.0</td>\n",
              "      <td>I</td>\n",
              "      <td>1950.0</td>\n",
              "      <td>19145.0</td>\n",
              "      <td>CMX1</td>\n",
              "      <td>1001408261</td>\n",
              "      <td>39.912470</td>\n",
              "      <td>-75.175407</td>\n",
              "    </tr>\n",
              "    <tr>\n",
              "      <th>39</th>\n",
              "      <td>3</td>\n",
              "      <td>40.0</td>\n",
              "      <td>80.0</td>\n",
              "      <td>43279.6</td>\n",
              "      <td>0.0</td>\n",
              "      <td>NaN</td>\n",
              "      <td>NaN</td>\n",
              "      <td>16.0</td>\n",
              "      <td>NaN</td>\n",
              "      <td>NaN</td>\n",
              "      <td>...</td>\n",
              "      <td>F</td>\n",
              "      <td>1280.0</td>\n",
              "      <td>2168.0</td>\n",
              "      <td>I</td>\n",
              "      <td>1920.0</td>\n",
              "      <td>19148.0</td>\n",
              "      <td>CMX2</td>\n",
              "      <td>1001106361</td>\n",
              "      <td>39.918985</td>\n",
              "      <td>-75.170514</td>\n",
              "    </tr>\n",
              "    <tr>\n",
              "      <th>62</th>\n",
              "      <td>3</td>\n",
              "      <td>198.0</td>\n",
              "      <td>51.0</td>\n",
              "      <td>0.0</td>\n",
              "      <td>0.0</td>\n",
              "      <td>NaN</td>\n",
              "      <td>NaN</td>\n",
              "      <td>16.0</td>\n",
              "      <td>NaN</td>\n",
              "      <td>NaN</td>\n",
              "      <td>...</td>\n",
              "      <td>F</td>\n",
              "      <td>820.0</td>\n",
              "      <td>1368.0</td>\n",
              "      <td>I</td>\n",
              "      <td>1920.0</td>\n",
              "      <td>19140.0</td>\n",
              "      <td>CMX2</td>\n",
              "      <td>1001607760</td>\n",
              "      <td>40.011361</td>\n",
              "      <td>-75.142306</td>\n",
              "    </tr>\n",
              "  </tbody>\n",
              "</table>\n",
              "<p>5 rows × 35 columns</p>\n",
              "</div>"
            ],
            "text/plain": [
              "    category_code  census_tract  depth  exempt_building  exempt_land  \\\n",
              "26              3          24.0   51.0              0.0          0.0   \n",
              "27              1         160.0   64.0              0.0          0.0   \n",
              "34              3         373.0   79.0          80000.0          0.0   \n",
              "39              3          40.0   80.0          43279.6          0.0   \n",
              "62              3         198.0   51.0              0.0          0.0   \n",
              "\n",
              "    exterior_condition  fireplaces  frontage  garage_spaces  garage_type  ...  \\\n",
              "26                 NaN         NaN      32.0            NaN          NaN  ...   \n",
              "27                 4.0         0.0      14.0            0.0          NaN  ...   \n",
              "34                 NaN         NaN      20.0            NaN          NaN  ...   \n",
              "39                 NaN         NaN      16.0            NaN          NaN  ...   \n",
              "62                 NaN         NaN      16.0            NaN          NaN  ...   \n",
              "\n",
              "   topography  total_area  total_livable_area  view_type  year_built  \\\n",
              "26          F      1840.0              1840.0          I      1900.0   \n",
              "27          F       776.0               258.0          I      1899.0   \n",
              "34          F      1829.0              2247.0          I      1950.0   \n",
              "39          F      1280.0              2168.0          I      1920.0   \n",
              "62          F       820.0              1368.0          I      1920.0   \n",
              "\n",
              "    zip_code  zoning         pin        lat        lng  \n",
              "26   19147.0    CMX2  1001608624  39.937917 -75.158254  \n",
              "27   19125.0    RSA5  1001129558  39.977132 -75.127125  \n",
              "34   19145.0    CMX1  1001408261  39.912470 -75.175407  \n",
              "39   19148.0    CMX2  1001106361  39.918985 -75.170514  \n",
              "62   19140.0    CMX2  1001607760  40.011361 -75.142306  \n",
              "\n",
              "[5 rows x 35 columns]"
            ]
          },
          "execution_count": 3,
          "metadata": {},
          "output_type": "execute_result"
        }
      ],
      "source": [
        "\"\"\"\n",
        "Cell generated by Data Wrangler.\n",
        "\"\"\"\n",
        "def clean_data(df):\n",
        "    # Drop duplicate rows across all columns\n",
        "    df = df.drop_duplicates()\n",
        "    # Filter rows based on column: 'category_code'\n",
        "    df = df[df['category_code'] < 4]\n",
        "    # Drop column: 'the_geom'\n",
        "    df = df.drop(columns=['the_geom'])\n",
        "    # Drop column: 'the_geom_webmercator'\n",
        "    df = df.drop(columns=['the_geom_webmercator'])\n",
        "    # Drop column: 'book_and_page'\n",
        "    df = df.drop(columns=['book_and_page'])\n",
        "    # Drop column: 'cross_reference'\n",
        "    df = df.drop(columns=['cross_reference'])\n",
        "    # Drop column: 'date_exterior_condition'\n",
        "    df = df.drop(columns=['date_exterior_condition'])\n",
        "    # Drop column: 'location'\n",
        "    df = df.drop(columns=['location'])\n",
        "    # Drop column: 'mailing_address_2'\n",
        "    df = df.drop(columns=['mailing_address_2'])\n",
        "    # Drop column: 'mailing_city_state'\n",
        "    df = df.drop(columns=['mailing_city_state'])\n",
        "    # Drop columns: 'mailing_street', 'mailing_zip'\n",
        "    df = df.drop(columns=['mailing_street', 'mailing_zip'])\n",
        "    # Drop column: 'market_value_date'\n",
        "    df = df.drop(columns=['market_value_date'])\n",
        "    # Drop column: 'beginning_point'\n",
        "    df = df.drop(columns=['beginning_point'])\n",
        "    # Drop column: 'basements'\n",
        "    df = df.drop(columns=['basements'])\n",
        "    # Drop column: 'building_code_description'\n",
        "    df = df.drop(columns=['building_code_description'])\n",
        "    # Drop column: 'site_type'\n",
        "    df = df.drop(columns=['site_type'])\n",
        "    # Drop column: 'separate_utilities'\n",
        "    df = df.drop(columns=['separate_utilities'])\n",
        "    # Drop column: 'unfinished'\n",
        "    df = df.drop(columns=['unfinished'])\n",
        "    # Drop column: 'utility'\n",
        "    df = df.drop(columns=['utility'])\n",
        "    # Drop column: 'year_built_estimate'\n",
        "    df = df.drop(columns=['year_built_estimate'])\n",
        "    # Drop column: 'unit'\n",
        "    df = df.drop(columns=['unit'])\n",
        "    # Drop columns: 'owner_1', 'owner_2'\n",
        "    df = df.drop(columns=['owner_1', 'owner_2'])\n",
        "    # Drop column: 'category_code_description'\n",
        "    df = df.drop(columns=['category_code_description'])\n",
        "    # Drop column: 'fuel'\n",
        "    df = df.drop(columns=['fuel'])\n",
        "    # Drop column: 'house_number'\n",
        "    df = df.drop(columns=['house_number'])\n",
        "    # Drop column: 'mailing_address_1'\n",
        "    df = df.drop(columns=['mailing_address_1'])\n",
        "    # Drop column: 'mailing_care_of'\n",
        "    df = df.drop(columns=['mailing_care_of'])\n",
        "    # Drop column: 'other_building'\n",
        "    df = df.drop(columns=['other_building'])\n",
        "    # Drop column: 'registry_number'\n",
        "    df = df.drop(columns=['registry_number'])\n",
        "    # Drop column: 'sewer'\n",
        "    df = df.drop(columns=['sewer'])\n",
        "    # Drop column: 'street_code'\n",
        "    df = df.drop(columns=['street_code'])\n",
        "    # Drop column: 'street_direction'\n",
        "    df = df.drop(columns=['street_direction'])\n",
        "    # Drop column: 'street_name'\n",
        "    df = df.drop(columns=['street_name'])\n",
        "    # Drop column: 'suffix'\n",
        "    df = df.drop(columns=['suffix'])\n",
        "    # Drop column: 'type_heater'\n",
        "    df = df.drop(columns=['type_heater'])\n",
        "    # Drop column: 'objectid'\n",
        "    df = df.drop(columns=['objectid'])\n",
        "    # Drop columns: 'building_code_description_new', 'building_code_new'\n",
        "    df = df.drop(columns=['building_code_description_new', 'building_code_new'])\n",
        "    # Drop column: 'house_extension'\n",
        "    df = df.drop(columns=['house_extension'])\n",
        "    # Drop column: 'building_code'\n",
        "    df = df.drop(columns=['building_code'])\n",
        "    # Drop column: 'recording_date'\n",
        "    df = df.drop(columns=['recording_date'])\n",
        "    # Drop column: 'sale_date'\n",
        "    df = df.drop(columns=['sale_date'])\n",
        "    # Drop column: 'assessment_date'\n",
        "    df = df.drop(columns=['assessment_date'])\n",
        "    # Drop column: 'central_air'\n",
        "    df = df.drop(columns=['central_air'])\n",
        "    # Drop column: 'parcel_number'\n",
        "    df = df.drop(columns=['parcel_number'])\n",
        "    # Drop column: 'state_code'\n",
        "    df = df.drop(columns=['state_code'])\n",
        "    # Drop column: 'number_of_rooms'\n",
        "    df = df.drop(columns=['number_of_rooms'])\n",
        "    return df\n",
        "\n",
        "df_clean = clean_data(df.copy())\n",
        "df_clean.head()"
      ]
    },
    {
      "cell_type": "markdown",
      "metadata": {},
      "source": [
        "These are all of the columns in the dataset after the first drops. Many of these can be removed from the start since they will have no use for a regression model. For instance, mailing addresses will not be useful since we know houses on one end of a street can be worth a lot more compared to a house on the other end of the street, so this data wll not be helpful in a regression model. Many columns have >40% missing values as well."
      ]
    },
    {
      "cell_type": "markdown",
      "metadata": {},
      "source": [
        "Filling Missing Values"
      ]
    },
    {
      "cell_type": "code",
      "execution_count": 5,
      "metadata": {},
      "outputs": [
        {
          "data": {
            "text/plain": [
              "Text(0.5, 0, 'Number of Missing values')"
            ]
          },
          "execution_count": 5,
          "metadata": {},
          "output_type": "execute_result"
        },
        {
          "data": {
            "image/png": "[encoded data removed]",
            "text/plain": [
              "<Figure size 640x480 with 1 Axes>"
            ]
          },
          "metadata": {},
          "output_type": "display_data"
        }
      ],
      "source": [
        "missing = df_clean.isnull().sum()\n",
        "missing = missing[missing >= 1000]\n",
        "missing.sort_values(inplace=True)\n",
        "missing.plot.barh()\n",
        "plt.title(\"Features with missing values (nan's) > 1000\")\n",
        "plt.ylabel(\"Features\")\n",
        "plt.xlabel(\"Number of Missing values\")"
      ]
    },
    {
      "cell_type": "code",
      "execution_count": 4,
      "metadata": {},
      "outputs": [
        {
          "data": {
            "text/html": [
              "<div>\n",
              "<style scoped>\n",
              "    .dataframe tbody tr th:only-of-type {\n",
              "        vertical-align: middle;\n",
              "    }\n",
              "\n",
              "    .dataframe tbody tr th {\n",
              "        vertical-align: top;\n",
              "    }\n",
              "\n",
              "    .dataframe thead th {\n",
              "        text-align: right;\n",
              "    }\n",
              "</style>\n",
              "<table border=\"1\" class=\"dataframe\">\n",
              "  <thead>\n",
              "    <tr style=\"text-align: right;\">\n",
              "      <th></th>\n",
              "      <th>category_code</th>\n",
              "      <th>census_tract</th>\n",
              "      <th>depth</th>\n",
              "      <th>exempt_building</th>\n",
              "      <th>exempt_land</th>\n",
              "      <th>exterior_condition</th>\n",
              "      <th>fireplaces</th>\n",
              "      <th>frontage</th>\n",
              "      <th>garage_spaces</th>\n",
              "      <th>garage_type</th>\n",
              "      <th>...</th>\n",
              "      <th>topography</th>\n",
              "      <th>total_area</th>\n",
              "      <th>total_livable_area</th>\n",
              "      <th>view_type</th>\n",
              "      <th>year_built</th>\n",
              "      <th>zip_code</th>\n",
              "      <th>zoning</th>\n",
              "      <th>pin</th>\n",
              "      <th>lat</th>\n",
              "      <th>lng</th>\n",
              "    </tr>\n",
              "  </thead>\n",
              "  <tbody>\n",
              "    <tr>\n",
              "      <th>26</th>\n",
              "      <td>3</td>\n",
              "      <td>24.0</td>\n",
              "      <td>51.0</td>\n",
              "      <td>0.0</td>\n",
              "      <td>0.0</td>\n",
              "      <td>4.0</td>\n",
              "      <td>0.0</td>\n",
              "      <td>32.0</td>\n",
              "      <td>0.0</td>\n",
              "      <td>0.0</td>\n",
              "      <td>...</td>\n",
              "      <td>F</td>\n",
              "      <td>1840.0</td>\n",
              "      <td>1840.0</td>\n",
              "      <td>I</td>\n",
              "      <td>1900.0</td>\n",
              "      <td>19147.0</td>\n",
              "      <td>CMX2</td>\n",
              "      <td>1001608624</td>\n",
              "      <td>39.937917</td>\n",
              "      <td>-75.158254</td>\n",
              "    </tr>\n",
              "    <tr>\n",
              "      <th>27</th>\n",
              "      <td>1</td>\n",
              "      <td>160.0</td>\n",
              "      <td>64.0</td>\n",
              "      <td>0.0</td>\n",
              "      <td>0.0</td>\n",
              "      <td>4.0</td>\n",
              "      <td>0.0</td>\n",
              "      <td>14.0</td>\n",
              "      <td>0.0</td>\n",
              "      <td>0.0</td>\n",
              "      <td>...</td>\n",
              "      <td>F</td>\n",
              "      <td>776.0</td>\n",
              "      <td>258.0</td>\n",
              "      <td>I</td>\n",
              "      <td>1899.0</td>\n",
              "      <td>19125.0</td>\n",
              "      <td>RSA5</td>\n",
              "      <td>1001129558</td>\n",
              "      <td>39.977132</td>\n",
              "      <td>-75.127125</td>\n",
              "    </tr>\n",
              "    <tr>\n",
              "      <th>34</th>\n",
              "      <td>3</td>\n",
              "      <td>373.0</td>\n",
              "      <td>79.0</td>\n",
              "      <td>80000.0</td>\n",
              "      <td>0.0</td>\n",
              "      <td>4.0</td>\n",
              "      <td>0.0</td>\n",
              "      <td>20.0</td>\n",
              "      <td>0.0</td>\n",
              "      <td>0.0</td>\n",
              "      <td>...</td>\n",
              "      <td>F</td>\n",
              "      <td>1829.0</td>\n",
              "      <td>2247.0</td>\n",
              "      <td>I</td>\n",
              "      <td>1950.0</td>\n",
              "      <td>19145.0</td>\n",
              "      <td>CMX1</td>\n",
              "      <td>1001408261</td>\n",
              "      <td>39.912470</td>\n",
              "      <td>-75.175407</td>\n",
              "    </tr>\n",
              "    <tr>\n",
              "      <th>39</th>\n",
              "      <td>3</td>\n",
              "      <td>40.0</td>\n",
              "      <td>80.0</td>\n",
              "      <td>43279.6</td>\n",
              "      <td>0.0</td>\n",
              "      <td>4.0</td>\n",
              "      <td>0.0</td>\n",
              "      <td>16.0</td>\n",
              "      <td>0.0</td>\n",
              "      <td>0.0</td>\n",
              "      <td>...</td>\n",
              "      <td>F</td>\n",
              "      <td>1280.0</td>\n",
              "      <td>2168.0</td>\n",
              "      <td>I</td>\n",
              "      <td>1920.0</td>\n",
              "      <td>19148.0</td>\n",
              "      <td>CMX2</td>\n",
              "      <td>1001106361</td>\n",
              "      <td>39.918985</td>\n",
              "      <td>-75.170514</td>\n",
              "    </tr>\n",
              "    <tr>\n",
              "      <th>62</th>\n",
              "      <td>3</td>\n",
              "      <td>198.0</td>\n",
              "      <td>51.0</td>\n",
              "      <td>0.0</td>\n",
              "      <td>0.0</td>\n",
              "      <td>4.0</td>\n",
              "      <td>0.0</td>\n",
              "      <td>16.0</td>\n",
              "      <td>0.0</td>\n",
              "      <td>0.0</td>\n",
              "      <td>...</td>\n",
              "      <td>F</td>\n",
              "      <td>820.0</td>\n",
              "      <td>1368.0</td>\n",
              "      <td>I</td>\n",
              "      <td>1920.0</td>\n",
              "      <td>19140.0</td>\n",
              "      <td>CMX2</td>\n",
              "      <td>1001607760</td>\n",
              "      <td>40.011361</td>\n",
              "      <td>-75.142306</td>\n",
              "    </tr>\n",
              "  </tbody>\n",
              "</table>\n",
              "<p>5 rows × 35 columns</p>\n",
              "</div>"
            ],
            "text/plain": [
              "    category_code  census_tract  depth  exempt_building  exempt_land  \\\n",
              "26              3          24.0   51.0              0.0          0.0   \n",
              "27              1         160.0   64.0              0.0          0.0   \n",
              "34              3         373.0   79.0          80000.0          0.0   \n",
              "39              3          40.0   80.0          43279.6          0.0   \n",
              "62              3         198.0   51.0              0.0          0.0   \n",
              "\n",
              "    exterior_condition  fireplaces  frontage  garage_spaces  garage_type  ...  \\\n",
              "26                 4.0         0.0      32.0            0.0          0.0  ...   \n",
              "27                 4.0         0.0      14.0            0.0          0.0  ...   \n",
              "34                 4.0         0.0      20.0            0.0          0.0  ...   \n",
              "39                 4.0         0.0      16.0            0.0          0.0  ...   \n",
              "62                 4.0         0.0      16.0            0.0          0.0  ...   \n",
              "\n",
              "   topography  total_area  total_livable_area  view_type  year_built  \\\n",
              "26          F      1840.0              1840.0          I      1900.0   \n",
              "27          F       776.0               258.0          I      1899.0   \n",
              "34          F      1829.0              2247.0          I      1950.0   \n",
              "39          F      1280.0              2168.0          I      1920.0   \n",
              "62          F       820.0              1368.0          I      1920.0   \n",
              "\n",
              "    zip_code  zoning         pin        lat        lng  \n",
              "26   19147.0    CMX2  1001608624  39.937917 -75.158254  \n",
              "27   19125.0    RSA5  1001129558  39.977132 -75.127125  \n",
              "34   19145.0    CMX1  1001408261  39.912470 -75.175407  \n",
              "39   19148.0    CMX2  1001106361  39.918985 -75.170514  \n",
              "62   19140.0    CMX2  1001607760  40.011361 -75.142306  \n",
              "\n",
              "[5 rows x 35 columns]"
            ]
          },
          "execution_count": 4,
          "metadata": {},
          "output_type": "execute_result"
        }
      ],
      "source": [
        "\"\"\"\n",
        "Cell generated by Data Wrangler.\n",
        "\"\"\"\n",
        "def clean_data(df_clean):\n",
        "    # Replace missing values with 0 in column: 'garage_type'\n",
        "    df_clean = df_clean.fillna({'garage_type': 0})\n",
        "    # Replace missing values with \"Unknown\" in column: 'general_construction'\n",
        "    df_clean = df_clean.fillna({'general_construction': \"Unknown\"})\n",
        "    # Replace missing values with 0 in column: 'garage_spaces'\n",
        "    df_clean = df_clean.fillna({'garage_spaces': 0})\n",
        "\n",
        "    # Replace using median for numerical data\n",
        "    # Replace missing values with the median of each column in: 'frontage'\n",
        "    df_clean = df_clean.fillna({'frontage': df_clean['frontage'].median()})\n",
        "    # Replace missing values with the median of each column in: 'off_street_open'\n",
        "    df_clean = df_clean.fillna({'off_street_open': df_clean['off_street_open'].median()})\n",
        "    # Replace missing values with the median of each column in: 'taxable_building'\n",
        "    df_clean = df_clean.fillna({'taxable_building': df_clean['taxable_building'].median()})\n",
        "    # Replace missing values with the median of each column in: 'number_of_bathrooms'\n",
        "    df_clean = df_clean.fillna({'number_of_bathrooms': df_clean['number_of_bathrooms'].median()})\n",
        "    # Replace missing values with the median of each column in: 'number_of_bedrooms'\n",
        "    df_clean = df_clean.fillna({'number_of_bedrooms': df_clean['number_of_bedrooms'].median()})\n",
        "    # Replace missing values with the median of each column in: 'interior_condition'\n",
        "    df_clean = df_clean.fillna({'interior_condition': df_clean['interior_condition'].median()})\n",
        "    # Replace missing values with the median of each column in: 'number_stories'\n",
        "    df_clean = df_clean.fillna({'number_stories': df_clean['number_stories'].median()})\n",
        "    # Replace missing values with the median of each column in: 'total_livable_area'\n",
        "    df_clean = df_clean.fillna({'total_livable_area': df_clean['total_livable_area'].median()})\n",
        "    # Replace missing values with the median of each column in: 'total_area'\n",
        "    df_clean = df_clean.fillna({'total_area': df_clean['total_area'].median()})\n",
        "    # Replace missing values with the median of each column in: 'depth'\n",
        "    df_clean = df_clean.fillna({'depth': df_clean['depth'].median()})\n",
        "\n",
        "    #Replace using Mode for categorical\n",
        "    # Replace missing values with the mode of each column in: 'geographic_ward'\n",
        "    df_clean = df_clean.fillna({'geographic_ward': df_clean['geographic_ward'].mode()[0]})\n",
        "    # Replace missing values with the most common value of each column in: 'parcel_shape'\n",
        "    df_clean = df_clean.fillna({'parcel_shape': df_clean['parcel_shape'].mode()[0]})\n",
        "    # Replace missing values with the most common value of each column in: 'quality_grade'\n",
        "    df_clean = df_clean.fillna({'quality_grade': df_clean['quality_grade'].mode()[0]})\n",
        "    # Replace missing values with the mode of each column in: 'year_built'\n",
        "    df_clean = df_clean.fillna({'year_built': df_clean['year_built'].mode()[0]})\n",
        "    # Replace missing values with the mode of each column in: 'exterior_condition'\n",
        "    df_clean = df_clean.fillna({'exterior_condition': df_clean['exterior_condition'].mode()[0]})\n",
        "\n",
        "    #Replace with most common when already a categorical\n",
        "    # Replace missing values with the most common value of each column in: 'zoning'\n",
        "    df_clean = df_clean.fillna({'zoning': df_clean['zoning'].mode()[0]})\n",
        "    # Replace missing values with the most common value of each column in: 'view_type'\n",
        "    df_clean = df_clean.fillna({'view_type': df_clean['view_type'].mode()[0]})\n",
        "    # Replace missing values with the most common value of each column in: 'topography'\n",
        "    df_clean = df_clean.fillna({'topography': df_clean['topography'].mode()[0]})\n",
        "\n",
        "    #Misc replacements of missing values\n",
        "    # Replace missing values with 0 in column: 'fireplaces'\n",
        "    df_clean = df_clean.fillna({'fireplaces': 0})\n",
        "    # Drop rows with missing data in column: 'census_tract'\n",
        "    df_clean = df_clean.dropna(subset=['census_tract'])\n",
        "    # Drop rows with missing data in column: 'market_value'\n",
        "    df_clean = df_clean.dropna(subset=['market_value'])\n",
        "    return df_clean\n",
        "\n",
        "\n",
        "df_clean_2 = clean_data(df_clean.copy())\n",
        "df_clean_2.head()"
      ]
    },
    {
      "cell_type": "code",
      "execution_count": 5,
      "metadata": {},
      "outputs": [
        {
          "data": {
            "text/html": [
              "<div>\n",
              "<style scoped>\n",
              "    .dataframe tbody tr th:only-of-type {\n",
              "        vertical-align: middle;\n",
              "    }\n",
              "\n",
              "    .dataframe tbody tr th {\n",
              "        vertical-align: top;\n",
              "    }\n",
              "\n",
              "    .dataframe thead th {\n",
              "        text-align: right;\n",
              "    }\n",
              "</style>\n",
              "<table border=\"1\" class=\"dataframe\">\n",
              "  <thead>\n",
              "    <tr style=\"text-align: right;\">\n",
              "      <th></th>\n",
              "      <th>category_code</th>\n",
              "      <th>census_tract</th>\n",
              "      <th>depth</th>\n",
              "      <th>exempt_building</th>\n",
              "      <th>exempt_land</th>\n",
              "      <th>exterior_condition</th>\n",
              "      <th>fireplaces</th>\n",
              "      <th>frontage</th>\n",
              "      <th>garage_spaces</th>\n",
              "      <th>garage_type</th>\n",
              "      <th>...</th>\n",
              "      <th>taxable_land</th>\n",
              "      <th>topography</th>\n",
              "      <th>total_area</th>\n",
              "      <th>total_livable_area</th>\n",
              "      <th>view_type</th>\n",
              "      <th>year_built</th>\n",
              "      <th>zip_code</th>\n",
              "      <th>zoning</th>\n",
              "      <th>lat</th>\n",
              "      <th>lng</th>\n",
              "    </tr>\n",
              "  </thead>\n",
              "  <tbody>\n",
              "    <tr>\n",
              "      <th>26</th>\n",
              "      <td>3</td>\n",
              "      <td>24.0</td>\n",
              "      <td>51.0</td>\n",
              "      <td>0.0</td>\n",
              "      <td>0.0</td>\n",
              "      <td>4.0</td>\n",
              "      <td>0.0</td>\n",
              "      <td>32.0</td>\n",
              "      <td>0.0</td>\n",
              "      <td>0.0</td>\n",
              "      <td>...</td>\n",
              "      <td>58420.0</td>\n",
              "      <td>F</td>\n",
              "      <td>1840.0</td>\n",
              "      <td>1840.0</td>\n",
              "      <td>I</td>\n",
              "      <td>1900.0</td>\n",
              "      <td>19147.0</td>\n",
              "      <td>CMX2</td>\n",
              "      <td>39.937917</td>\n",
              "      <td>-75.158254</td>\n",
              "    </tr>\n",
              "    <tr>\n",
              "      <th>27</th>\n",
              "      <td>1</td>\n",
              "      <td>160.0</td>\n",
              "      <td>64.0</td>\n",
              "      <td>0.0</td>\n",
              "      <td>0.0</td>\n",
              "      <td>4.0</td>\n",
              "      <td>0.0</td>\n",
              "      <td>14.0</td>\n",
              "      <td>0.0</td>\n",
              "      <td>0.0</td>\n",
              "      <td>...</td>\n",
              "      <td>2600.0</td>\n",
              "      <td>F</td>\n",
              "      <td>776.0</td>\n",
              "      <td>258.0</td>\n",
              "      <td>I</td>\n",
              "      <td>1899.0</td>\n",
              "      <td>19125.0</td>\n",
              "      <td>RSA5</td>\n",
              "      <td>39.977132</td>\n",
              "      <td>-75.127125</td>\n",
              "    </tr>\n",
              "    <tr>\n",
              "      <th>34</th>\n",
              "      <td>3</td>\n",
              "      <td>373.0</td>\n",
              "      <td>79.0</td>\n",
              "      <td>80000.0</td>\n",
              "      <td>0.0</td>\n",
              "      <td>4.0</td>\n",
              "      <td>0.0</td>\n",
              "      <td>20.0</td>\n",
              "      <td>0.0</td>\n",
              "      <td>0.0</td>\n",
              "      <td>...</td>\n",
              "      <td>30910.0</td>\n",
              "      <td>F</td>\n",
              "      <td>1829.0</td>\n",
              "      <td>2247.0</td>\n",
              "      <td>I</td>\n",
              "      <td>1950.0</td>\n",
              "      <td>19145.0</td>\n",
              "      <td>CMX1</td>\n",
              "      <td>39.912470</td>\n",
              "      <td>-75.175407</td>\n",
              "    </tr>\n",
              "    <tr>\n",
              "      <th>39</th>\n",
              "      <td>3</td>\n",
              "      <td>40.0</td>\n",
              "      <td>80.0</td>\n",
              "      <td>43279.6</td>\n",
              "      <td>0.0</td>\n",
              "      <td>4.0</td>\n",
              "      <td>0.0</td>\n",
              "      <td>16.0</td>\n",
              "      <td>0.0</td>\n",
              "      <td>0.0</td>\n",
              "      <td>...</td>\n",
              "      <td>72800.0</td>\n",
              "      <td>F</td>\n",
              "      <td>1280.0</td>\n",
              "      <td>2168.0</td>\n",
              "      <td>I</td>\n",
              "      <td>1920.0</td>\n",
              "      <td>19148.0</td>\n",
              "      <td>CMX2</td>\n",
              "      <td>39.918985</td>\n",
              "      <td>-75.170514</td>\n",
              "    </tr>\n",
              "    <tr>\n",
              "      <th>62</th>\n",
              "      <td>3</td>\n",
              "      <td>198.0</td>\n",
              "      <td>51.0</td>\n",
              "      <td>0.0</td>\n",
              "      <td>0.0</td>\n",
              "      <td>4.0</td>\n",
              "      <td>0.0</td>\n",
              "      <td>16.0</td>\n",
              "      <td>0.0</td>\n",
              "      <td>0.0</td>\n",
              "      <td>...</td>\n",
              "      <td>16100.0</td>\n",
              "      <td>F</td>\n",
              "      <td>820.0</td>\n",
              "      <td>1368.0</td>\n",
              "      <td>I</td>\n",
              "      <td>1920.0</td>\n",
              "      <td>19140.0</td>\n",
              "      <td>CMX2</td>\n",
              "      <td>40.011361</td>\n",
              "      <td>-75.142306</td>\n",
              "    </tr>\n",
              "  </tbody>\n",
              "</table>\n",
              "<p>5 rows × 34 columns</p>\n",
              "</div>"
            ],
            "text/plain": [
              "    category_code  census_tract  depth  exempt_building  exempt_land  \\\n",
              "26              3          24.0   51.0              0.0          0.0   \n",
              "27              1         160.0   64.0              0.0          0.0   \n",
              "34              3         373.0   79.0          80000.0          0.0   \n",
              "39              3          40.0   80.0          43279.6          0.0   \n",
              "62              3         198.0   51.0              0.0          0.0   \n",
              "\n",
              "    exterior_condition  fireplaces  frontage  garage_spaces  garage_type  ...  \\\n",
              "26                 4.0         0.0      32.0            0.0          0.0  ...   \n",
              "27                 4.0         0.0      14.0            0.0          0.0  ...   \n",
              "34                 4.0         0.0      20.0            0.0          0.0  ...   \n",
              "39                 4.0         0.0      16.0            0.0          0.0  ...   \n",
              "62                 4.0         0.0      16.0            0.0          0.0  ...   \n",
              "\n",
              "   taxable_land  topography  total_area  total_livable_area  view_type  \\\n",
              "26      58420.0           F      1840.0              1840.0          I   \n",
              "27       2600.0           F       776.0               258.0          I   \n",
              "34      30910.0           F      1829.0              2247.0          I   \n",
              "39      72800.0           F      1280.0              2168.0          I   \n",
              "62      16100.0           F       820.0              1368.0          I   \n",
              "\n",
              "    year_built  zip_code  zoning        lat        lng  \n",
              "26      1900.0   19147.0    CMX2  39.937917 -75.158254  \n",
              "27      1899.0   19125.0    RSA5  39.977132 -75.127125  \n",
              "34      1950.0   19145.0    CMX1  39.912470 -75.175407  \n",
              "39      1920.0   19148.0    CMX2  39.918985 -75.170514  \n",
              "62      1920.0   19140.0    CMX2  40.011361 -75.142306  \n",
              "\n",
              "[5 rows x 34 columns]"
            ]
          },
          "execution_count": 5,
          "metadata": {},
          "output_type": "execute_result"
        }
      ],
      "source": [
        "\"\"\"\n",
        "Cell generated by Data Wrangler.\n",
        "\"\"\"\n",
        "def clean_data(df_clean_2):\n",
        "    # Filter rows based on column: 'census_tract'\n",
        "    df_clean_2 = df_clean_2[~(df_clean_2['census_tract'] > 400)]\n",
        "    # Filter rows based on column: 'depth'\n",
        "    df_clean_2 = df_clean_2[~(df_clean_2['depth'] > 300)]\n",
        "    # Filter rows based on column: 'fireplaces'\n",
        "    df_clean_2 = df_clean_2[~(df_clean_2['fireplaces'] > 5)]\n",
        "    # Filter rows based on column: 'frontage'\n",
        "    df_clean_2 = df_clean_2[~(df_clean_2['frontage'] > 200)]\n",
        "    # Filter rows based on column: 'garage_spaces'\n",
        "    df_clean_2 = df_clean_2[~(df_clean_2['garage_spaces'] > 4)]\n",
        "    # Drop column: 'pin'\n",
        "    df_clean_2 = df_clean_2.drop(columns=['pin'])\n",
        "    return df_clean_2\n",
        "\n",
        "df_clean_3 = clean_data(df_clean_2.copy())\n",
        "df_clean_3.head()"
      ]
    },
    {
      "cell_type": "code",
      "execution_count": 18,
      "metadata": {},
      "outputs": [
        {
          "data": {
            "text/plain": [
              "category_code             int64\n",
              "census_tract            float64\n",
              "depth                   float64\n",
              "exempt_building         float64\n",
              "exempt_land             float64\n",
              "exterior_condition      float64\n",
              "fireplaces              float64\n",
              "frontage                float64\n",
              "garage_spaces           float64\n",
              "garage_type             float64\n",
              "general_construction     object\n",
              "geographic_ward         float64\n",
              "homestead_exemption       int64\n",
              "interior_condition      float64\n",
              "market_value            float64\n",
              "number_of_bathrooms     float64\n",
              "number_of_bedrooms      float64\n",
              "number_stories          float64\n",
              "off_street_open         float64\n",
              "parcel_shape             object\n",
              "quality_grade            object\n",
              "sale_price              float64\n",
              "street_designation       object\n",
              "taxable_building        float64\n",
              "taxable_land            float64\n",
              "topography               object\n",
              "total_area              float64\n",
              "total_livable_area      float64\n",
              "view_type                object\n",
              "year_built              float64\n",
              "zip_code                float64\n",
              "zoning                   object\n",
              "pin                       int64\n",
              "lat                     float64\n",
              "lng                     float64\n",
              "dtype: object"
            ]
          },
          "execution_count": 18,
          "metadata": {},
          "output_type": "execute_result"
        }
      ],
      "source": [
        "df_clean_2.dtypes"
      ]
    },
    {
      "cell_type": "code",
      "execution_count": null,
      "metadata": {},
      "outputs": [],
      "source": [
        "CATEGORICAL_COLUMNS = \"\"\"\n",
        "category_code\n",
        "exempt_building\n",
        "exempt_land\n",
        "exterior_condition\n",
        "frontage\n",
        "garage_type\n",
        "general_construction\n",
        "geographic_ward\n",
        "homestead_exemption\n",
        "interior_condition\n",
        "off_street_open\n",
        "parcel_shape\n",
        "quality_grade\n",
        "street_designation\n",
        "topography\n",
        "view_type\n",
        "year_built\n",
        "zip_code\n",
        "zoning\n",
        "pin\n",
        "lat\n",
        "lng\n",
        "\"\"\"\n",
        "NUMERICAL_COLUMNS = \"\"\"\n",
        "total_livable_area\n",
        "total_area\n",
        "taxable_building\n",
        "taxable_land\n",
        "sale_price\n",
        "market_value\n",
        "number_of_bathrooms\n",
        "number_of_bedrooms\n",
        "number_stories\n",
        "garage_spaces\n",
        "fireplaces\n",
        "census_tract\n",
        "depth\n",
        "\"\"\""
      ]
    },
    {
      "cell_type": "markdown",
      "metadata": {
        "id": "j8SAqO8qrVY2"
      },
      "source": [
        "## In Progress"
      ]
    },
    {
      "cell_type": "markdown",
      "metadata": {
        "id": "0q_VWZz9hND5"
      },
      "source": [
        "### Check columns again"
      ]
    },
    {
      "cell_type": "code",
      "execution_count": 6,
      "metadata": {
        "colab": {
          "base_uri": "https://localhost:8080/"
        },
        "id": "299ngB3Db_1N",
        "outputId": "e09ee2ac-fd00-40fb-bef9-0e8bfd9539fa"
      },
      "outputs": [
        {
          "name": "stdout",
          "output_type": "stream",
          "text": [
            "\n",
            "The most important features relative to the target - 'market_value':\n"
          ]
        },
        {
          "ename": "ValueError",
          "evalue": "could not convert string to float: 'A '",
          "output_type": "error",
          "traceback": [
            "\u001b[1;31m---------------------------------------------------------------------------\u001b[0m",
            "\u001b[1;31mValueError\u001b[0m                                Traceback (most recent call last)",
            "Cell \u001b[1;32mIn[6], line 2\u001b[0m\n\u001b[0;32m      1\u001b[0m \u001b[38;5;28mprint\u001b[39m(\u001b[38;5;124m\"\u001b[39m\u001b[38;5;130;01m\\n\u001b[39;00m\u001b[38;5;124mThe most important features relative to the target - \u001b[39m\u001b[38;5;124m'\u001b[39m\u001b[38;5;124mmarket_value\u001b[39m\u001b[38;5;124m'\u001b[39m\u001b[38;5;124m:\u001b[39m\u001b[38;5;124m\"\u001b[39m)\n\u001b[1;32m----> 2\u001b[0m corr \u001b[38;5;241m=\u001b[39m \u001b[43mdf_clean_3\u001b[49m\u001b[38;5;241;43m.\u001b[39;49m\u001b[43mcorr\u001b[49m\u001b[43m(\u001b[49m\u001b[43m)\u001b[49m\n\u001b[0;32m      3\u001b[0m corr\u001b[38;5;241m.\u001b[39msort_values([\u001b[38;5;124m\"\u001b[39m\u001b[38;5;124mmarket_value\u001b[39m\u001b[38;5;124m\"\u001b[39m],ascending \u001b[38;5;241m=\u001b[39m \u001b[38;5;28;01mFalse\u001b[39;00m, inplace \u001b[38;5;241m=\u001b[39m \u001b[38;5;28;01mTrue\u001b[39;00m)\n\u001b[0;32m      4\u001b[0m \u001b[38;5;28mprint\u001b[39m(corr\u001b[38;5;241m.\u001b[39mmarket_value)\n",
            "File \u001b[1;32md:\\Code\\CMPSC445\\.venv\\Lib\\site-packages\\pandas\\core\\frame.py:11036\u001b[0m, in \u001b[0;36mDataFrame.corr\u001b[1;34m(self, method, min_periods, numeric_only)\u001b[0m\n\u001b[0;32m  11034\u001b[0m cols \u001b[38;5;241m=\u001b[39m data\u001b[38;5;241m.\u001b[39mcolumns\n\u001b[0;32m  11035\u001b[0m idx \u001b[38;5;241m=\u001b[39m cols\u001b[38;5;241m.\u001b[39mcopy()\n\u001b[1;32m> 11036\u001b[0m mat \u001b[38;5;241m=\u001b[39m \u001b[43mdata\u001b[49m\u001b[38;5;241;43m.\u001b[39;49m\u001b[43mto_numpy\u001b[49m\u001b[43m(\u001b[49m\u001b[43mdtype\u001b[49m\u001b[38;5;241;43m=\u001b[39;49m\u001b[38;5;28;43mfloat\u001b[39;49m\u001b[43m,\u001b[49m\u001b[43m \u001b[49m\u001b[43mna_value\u001b[49m\u001b[38;5;241;43m=\u001b[39;49m\u001b[43mnp\u001b[49m\u001b[38;5;241;43m.\u001b[39;49m\u001b[43mnan\u001b[49m\u001b[43m,\u001b[49m\u001b[43m \u001b[49m\u001b[43mcopy\u001b[49m\u001b[38;5;241;43m=\u001b[39;49m\u001b[38;5;28;43;01mFalse\u001b[39;49;00m\u001b[43m)\u001b[49m\n\u001b[0;32m  11038\u001b[0m \u001b[38;5;28;01mif\u001b[39;00m method \u001b[38;5;241m==\u001b[39m \u001b[38;5;124m\"\u001b[39m\u001b[38;5;124mpearson\u001b[39m\u001b[38;5;124m\"\u001b[39m:\n\u001b[0;32m  11039\u001b[0m     correl \u001b[38;5;241m=\u001b[39m libalgos\u001b[38;5;241m.\u001b[39mnancorr(mat, minp\u001b[38;5;241m=\u001b[39mmin_periods)\n",
            "File \u001b[1;32md:\\Code\\CMPSC445\\.venv\\Lib\\site-packages\\pandas\\core\\frame.py:1981\u001b[0m, in \u001b[0;36mDataFrame.to_numpy\u001b[1;34m(self, dtype, copy, na_value)\u001b[0m\n\u001b[0;32m   1979\u001b[0m \u001b[38;5;28;01mif\u001b[39;00m dtype \u001b[38;5;129;01mis\u001b[39;00m \u001b[38;5;129;01mnot\u001b[39;00m \u001b[38;5;28;01mNone\u001b[39;00m:\n\u001b[0;32m   1980\u001b[0m     dtype \u001b[38;5;241m=\u001b[39m np\u001b[38;5;241m.\u001b[39mdtype(dtype)\n\u001b[1;32m-> 1981\u001b[0m result \u001b[38;5;241m=\u001b[39m \u001b[38;5;28;43mself\u001b[39;49m\u001b[38;5;241;43m.\u001b[39;49m\u001b[43m_mgr\u001b[49m\u001b[38;5;241;43m.\u001b[39;49m\u001b[43mas_array\u001b[49m\u001b[43m(\u001b[49m\u001b[43mdtype\u001b[49m\u001b[38;5;241;43m=\u001b[39;49m\u001b[43mdtype\u001b[49m\u001b[43m,\u001b[49m\u001b[43m \u001b[49m\u001b[43mcopy\u001b[49m\u001b[38;5;241;43m=\u001b[39;49m\u001b[43mcopy\u001b[49m\u001b[43m,\u001b[49m\u001b[43m \u001b[49m\u001b[43mna_value\u001b[49m\u001b[38;5;241;43m=\u001b[39;49m\u001b[43mna_value\u001b[49m\u001b[43m)\u001b[49m\n\u001b[0;32m   1982\u001b[0m \u001b[38;5;28;01mif\u001b[39;00m result\u001b[38;5;241m.\u001b[39mdtype \u001b[38;5;129;01mis\u001b[39;00m \u001b[38;5;129;01mnot\u001b[39;00m dtype:\n\u001b[0;32m   1983\u001b[0m     result \u001b[38;5;241m=\u001b[39m np\u001b[38;5;241m.\u001b[39marray(result, dtype\u001b[38;5;241m=\u001b[39mdtype, copy\u001b[38;5;241m=\u001b[39m\u001b[38;5;28;01mFalse\u001b[39;00m)\n",
            "File \u001b[1;32md:\\Code\\CMPSC445\\.venv\\Lib\\site-packages\\pandas\\core\\internals\\managers.py:1692\u001b[0m, in \u001b[0;36mBlockManager.as_array\u001b[1;34m(self, dtype, copy, na_value)\u001b[0m\n\u001b[0;32m   1690\u001b[0m         arr\u001b[38;5;241m.\u001b[39mflags\u001b[38;5;241m.\u001b[39mwriteable \u001b[38;5;241m=\u001b[39m \u001b[38;5;28;01mFalse\u001b[39;00m\n\u001b[0;32m   1691\u001b[0m \u001b[38;5;28;01melse\u001b[39;00m:\n\u001b[1;32m-> 1692\u001b[0m     arr \u001b[38;5;241m=\u001b[39m \u001b[38;5;28;43mself\u001b[39;49m\u001b[38;5;241;43m.\u001b[39;49m\u001b[43m_interleave\u001b[49m\u001b[43m(\u001b[49m\u001b[43mdtype\u001b[49m\u001b[38;5;241;43m=\u001b[39;49m\u001b[43mdtype\u001b[49m\u001b[43m,\u001b[49m\u001b[43m \u001b[49m\u001b[43mna_value\u001b[49m\u001b[38;5;241;43m=\u001b[39;49m\u001b[43mna_value\u001b[49m\u001b[43m)\u001b[49m\n\u001b[0;32m   1693\u001b[0m     \u001b[38;5;66;03m# The underlying data was copied within _interleave, so no need\u001b[39;00m\n\u001b[0;32m   1694\u001b[0m     \u001b[38;5;66;03m# to further copy if copy=True or setting na_value\u001b[39;00m\n\u001b[0;32m   1696\u001b[0m \u001b[38;5;28;01mif\u001b[39;00m na_value \u001b[38;5;129;01mis\u001b[39;00m lib\u001b[38;5;241m.\u001b[39mno_default:\n",
            "File \u001b[1;32md:\\Code\\CMPSC445\\.venv\\Lib\\site-packages\\pandas\\core\\internals\\managers.py:1751\u001b[0m, in \u001b[0;36mBlockManager._interleave\u001b[1;34m(self, dtype, na_value)\u001b[0m\n\u001b[0;32m   1749\u001b[0m     \u001b[38;5;28;01melse\u001b[39;00m:\n\u001b[0;32m   1750\u001b[0m         arr \u001b[38;5;241m=\u001b[39m blk\u001b[38;5;241m.\u001b[39mget_values(dtype)\n\u001b[1;32m-> 1751\u001b[0m     \u001b[43mresult\u001b[49m\u001b[43m[\u001b[49m\u001b[43mrl\u001b[49m\u001b[38;5;241;43m.\u001b[39;49m\u001b[43mindexer\u001b[49m\u001b[43m]\u001b[49m \u001b[38;5;241m=\u001b[39m arr\n\u001b[0;32m   1752\u001b[0m     itemmask[rl\u001b[38;5;241m.\u001b[39mindexer] \u001b[38;5;241m=\u001b[39m \u001b[38;5;241m1\u001b[39m\n\u001b[0;32m   1754\u001b[0m \u001b[38;5;28;01mif\u001b[39;00m \u001b[38;5;129;01mnot\u001b[39;00m itemmask\u001b[38;5;241m.\u001b[39mall():\n",
            "\u001b[1;31mValueError\u001b[0m: could not convert string to float: 'A '"
          ]
        }
      ],
      "source": [
        "print(\"\\nThe most important features relative to the target - 'market_value':\")\n",
        "corr = df_clean_3.corr()\n",
        "corr.sort_values([\"market_value\"],ascending = False, inplace = True)\n",
        "print(corr.market_value)"
      ]
    },
    {
      "cell_type": "markdown",
      "metadata": {
        "id": "9anfAk4ietpi"
      },
      "source": [
        "Removing all Values in market value and sale price that are Missing"
      ]
    },
    {
      "cell_type": "code",
      "execution_count": null,
      "metadata": {
        "id": "N1jnMvnCR802"
      },
      "outputs": [],
      "source": [
        "data = data.dropna(subset=['market_value'])\n",
        "data = data.dropna(subset=['sale_price'])"
      ]
    },
    {
      "cell_type": "markdown",
      "metadata": {
        "id": "0nEVQNWFe8j5"
      },
      "source": [
        "Check to see if there are still any null values"
      ]
    },
    {
      "cell_type": "code",
      "execution_count": null,
      "metadata": {
        "colab": {
          "base_uri": "https://localhost:8080/"
        },
        "id": "v9Q9xFOwSGWC",
        "outputId": "3ce1ac48-0502-407e-dcef-163220c2fae8"
      },
      "outputs": [],
      "source": [
        "data.market_value.isnull().any()"
      ]
    },
    {
      "cell_type": "code",
      "execution_count": null,
      "metadata": {
        "colab": {
          "base_uri": "https://localhost:8080/"
        },
        "id": "yNSRujf-fAF7",
        "outputId": "ce31f9d6-91cd-4f88-c566-1c882ce09a50"
      },
      "outputs": [],
      "source": [
        "data.sale_price.isnull().any()"
      ]
    },
    {
      "cell_type": "markdown",
      "metadata": {
        "id": "Nyag7VJVfFAF"
      },
      "source": [
        "Deleting values that are 0 for market value and sale price, since they don't make sense to have"
      ]
    },
    {
      "cell_type": "code",
      "execution_count": null,
      "metadata": {
        "id": "mqyDeF4TSKEn"
      },
      "outputs": [],
      "source": [
        "data = data.drop(data[data.market_value == 0].index)"
      ]
    },
    {
      "cell_type": "code",
      "execution_count": null,
      "metadata": {
        "id": "UtHmQpSbfMbW"
      },
      "outputs": [],
      "source": [
        "data = data.drop(data[data.sale_price == 0].index)"
      ]
    },
    {
      "cell_type": "markdown",
      "metadata": {
        "id": "AQujswdpnLMd"
      },
      "source": [
        "Fixing Longitude and Latitude"
      ]
    },
    {
      "cell_type": "code",
      "execution_count": null,
      "metadata": {
        "id": "Nu4-gvGWnNkQ"
      },
      "outputs": [],
      "source": [
        "data[\"lng\"] = data.lng.fillna(data.lng.mean())"
      ]
    },
    {
      "cell_type": "code",
      "execution_count": null,
      "metadata": {
        "colab": {
          "base_uri": "https://localhost:8080/"
        },
        "id": "EQvoTy01nSYL",
        "outputId": "3acd9932-3f1e-44dd-8348-d9f1ff2e8f06"
      },
      "outputs": [],
      "source": [
        "data.lng.value_counts(dropna=False).head(5)"
      ]
    },
    {
      "cell_type": "markdown",
      "metadata": {
        "id": "XKF8tSVAnfko"
      },
      "source": [
        "Longitude values are negative, so getting absolute value so they are positive"
      ]
    },
    {
      "cell_type": "code",
      "execution_count": null,
      "metadata": {
        "id": "O5sJXI2ppJ-W"
      },
      "outputs": [],
      "source": [
        "data.loc[:, \"lng\"] = data['lng'].abs()"
      ]
    },
    {
      "cell_type": "code",
      "execution_count": null,
      "metadata": {
        "colab": {
          "base_uri": "https://localhost:8080/"
        },
        "id": "ZKJ1QrG0no2O",
        "outputId": "f41ad833-cf82-4fec-b09a-c201e050c441"
      },
      "outputs": [],
      "source": [
        "data.lat.value_counts(dropna=False).head()"
      ]
    },
    {
      "cell_type": "markdown",
      "metadata": {
        "id": "YQrs6fc_nrtL"
      },
      "source": [
        "Latitude is fine so no need to fix"
      ]
    },
    {
      "cell_type": "markdown",
      "metadata": {
        "id": "KQYwJaykgXvi"
      },
      "source": [
        "Check Zip Codes"
      ]
    },
    {
      "cell_type": "code",
      "execution_count": null,
      "metadata": {
        "colab": {
          "base_uri": "https://localhost:8080/"
        },
        "id": "BQW2Bp_gf811",
        "outputId": "ba60dfcc-9c19-4944-bbc6-46a13d0075b7"
      },
      "outputs": [],
      "source": [
        "data.zip_code.value_counts(dropna=False).head()"
      ]
    },
    {
      "cell_type": "markdown",
      "metadata": {
        "id": "iPk3SOU8gZSP"
      },
      "source": [
        "Check Basements"
      ]
    },
    {
      "cell_type": "code",
      "execution_count": null,
      "metadata": {
        "colab": {
          "base_uri": "https://localhost:8080/"
        },
        "id": "KivUv1hUgaeD",
        "outputId": "4daaed27-6746-45ae-9cac-27560eaa7391"
      },
      "outputs": [],
      "source": [
        "data.basements.value_counts(dropna=False)\n",
        "# [NOTE: REPLACING 'NaN' WITH 'L' (my definition)]\n",
        "# D = Full – Unknown Finish\n",
        "# F = Partial - Semi-Finished\n",
        "# H = Partial - Unknown Finish\n",
        "# C = Full - Unfinished\n",
        "# A = Full - Finished\n",
        "# J = Unknown Size - Unfinished\n",
        "# 0 = No Basement [NOTE: REPLACING '0' WITH 'K']\n",
        "# E = Partial - Finished\n",
        "# I = Unknown Size - Finished\n",
        "# G = Partial - Unfinished\n",
        "# B = Full - Semi-Finished"
      ]
    },
    {
      "cell_type": "markdown",
      "metadata": {
        "id": "AayVNX8bg8-u"
      },
      "source": [
        "Replacing Codes"
      ]
    },
    {
      "cell_type": "code",
      "execution_count": null,
      "metadata": {
        "id": "tAsiYJDhg48R"
      },
      "outputs": [],
      "source": [
        "data.loc[:, \"basements\"] = data.loc[:, \"basements\"].fillna('L')\n",
        "data.loc[:, \"basements\"] = data['basements'].replace('0', 'K')"
      ]
    },
    {
      "cell_type": "markdown",
      "metadata": {
        "id": "dQsIn1yBhHJ2"
      },
      "source": [
        "Checking Central Air"
      ]
    },
    {
      "cell_type": "code",
      "execution_count": null,
      "metadata": {
        "colab": {
          "base_uri": "https://localhost:8080/"
        },
        "id": "iFfarJydhGnC",
        "outputId": "b3e601e7-b56d-4311-86d0-ee1b15b7fbad"
      },
      "outputs": [],
      "source": [
        "data.central_air.value_counts(dropna=False)"
      ]
    },
    {
      "cell_type": "code",
      "execution_count": null,
      "metadata": {
        "id": "m52xR1xBhX0d"
      },
      "outputs": [],
      "source": [
        "# Replacing '0' with 'N' (i.e. NO central_air)\n",
        "data.loc[:, \"central_air\"] = data['central_air'].replace('0', 'N')\n",
        "# Replacing the \"NaNs\" with 'N'\n",
        "data.loc[:, \"central_air\"] = data['central_air'].fillna('N')\n",
        "# Replacing '1' with 'Y' (i.e. YES central_air)\n",
        "data.loc[:, \"central_air\"] = data['central_air'].replace('1', 'Y')"
      ]
    },
    {
      "cell_type": "markdown",
      "metadata": {
        "id": "7rmq_qohjCgv"
      },
      "source": [
        "Checking Exterior Condition"
      ]
    },
    {
      "cell_type": "code",
      "execution_count": null,
      "metadata": {
        "colab": {
          "base_uri": "https://localhost:8080/"
        },
        "id": "tjx3CS6koNOJ",
        "outputId": "7eba0650-9e21-434d-d2f1-c3ffabc312cc"
      },
      "outputs": [],
      "source": [
        "data.exterior_condition.value_counts(dropna=False)\n",
        "# Lower values are better quality\n",
        "# 0 is Missing/NA"
      ]
    },
    {
      "cell_type": "code",
      "execution_count": null,
      "metadata": {
        "id": "LWSMd6_aoXBi"
      },
      "outputs": [],
      "source": [
        "data.loc[:, \"exterior_condition\"] = data['exterior_condition'].fillna(0.0)"
      ]
    },
    {
      "cell_type": "code",
      "execution_count": null,
      "metadata": {
        "colab": {
          "base_uri": "https://localhost:8080/"
        },
        "id": "MYjrfZylokkm",
        "outputId": "98ba49d8-691c-4274-8d0c-4a2ee9f35eb8"
      },
      "outputs": [],
      "source": [
        "data.exterior_condition.value_counts(dropna=False)"
      ]
    },
    {
      "cell_type": "markdown",
      "metadata": {
        "id": "GrH4esDdqdr4"
      },
      "source": [
        "Checking Garage Type - Removing because unclear how to organize"
      ]
    },
    {
      "cell_type": "code",
      "execution_count": null,
      "metadata": {
        "colab": {
          "base_uri": "https://localhost:8080/"
        },
        "id": "30eZLce3jEH7",
        "outputId": "0d388a80-f4ed-43bf-9f3f-c566f908ea6c"
      },
      "outputs": [],
      "source": [
        "data.garage_type.value_counts(dropna=False)"
      ]
    },
    {
      "cell_type": "code",
      "execution_count": null,
      "metadata": {
        "id": "HNa1ROZqqYi0"
      },
      "outputs": [],
      "source": [
        "data = data.drop('garage_type', axis = 1)"
      ]
    },
    {
      "cell_type": "markdown",
      "metadata": {
        "id": "qrJ6jzJcqpIL"
      },
      "source": [
        "Checking Correlation of Features to the target"
      ]
    },
    {
      "cell_type": "code",
      "execution_count": null,
      "metadata": {
        "colab": {
          "base_uri": "https://localhost:8080/"
        },
        "id": "DV1C_wU8lDkK",
        "outputId": "fb96e2e2-0e83-4b5f-90f1-897bcc0abc14"
      },
      "outputs": [],
      "source": [
        "print(\"\\nThe most important features relative to the target - 'market_value':\")\n",
        "corr = data.corr()\n",
        "corr.sort_values([\"market_value\"],ascending = False, inplace = True)\n",
        "print(corr.market_value)"
      ]
    }
  ],
  "metadata": {
    "colab": {
      "provenance": []
    },
    "kernelspec": {
      "display_name": "Python 3",
      "name": "python3"
    },
    "language_info": {
      "codemirror_mode": {
        "name": "ipython",
        "version": 3
      },
      "file_extension": ".py",
      "mimetype": "text/x-python",
      "name": "python",
      "nbconvert_exporter": "python",
      "pygments_lexer": "ipython3",
      "version": "3.11.8"
    }
  },
  "nbformat": 4,
  "nbformat_minor": 0
}
